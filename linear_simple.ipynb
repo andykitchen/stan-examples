{
 "metadata": {
  "name": "",
  "signature": "sha256:edfcf981c6b46dfd8e46db40aa6510ce3e1ad7e0b8dbcd6cbe28aeedfe062c92"
 },
 "nbformat": 3,
 "nbformat_minor": 0,
 "worksheets": [
  {
   "cells": [
    {
     "cell_type": "code",
     "collapsed": false,
     "input": [
      "import numpy as np"
     ],
     "language": "python",
     "metadata": {},
     "outputs": [],
     "prompt_number": 1
    },
    {
     "cell_type": "code",
     "collapsed": false,
     "input": [
      "N = 100\n",
      "predictors = np.random.randn(N)\n",
      "noise = np.random.randn(N)"
     ],
     "language": "python",
     "metadata": {},
     "outputs": [],
     "prompt_number": 2
    },
    {
     "cell_type": "code",
     "collapsed": false,
     "input": [
      "import matplotlib.pyplot as plt\n",
      "%matplotlib inline"
     ],
     "language": "python",
     "metadata": {},
     "outputs": [],
     "prompt_number": 3
    },
    {
     "cell_type": "code",
     "collapsed": false,
     "input": [
      "observations = 2.0 * predictors + noise"
     ],
     "language": "python",
     "metadata": {},
     "outputs": [],
     "prompt_number": 5
    },
    {
     "cell_type": "code",
     "collapsed": false,
     "input": [
      "plt.scatter(predictors, observations);"
     ],
     "language": "python",
     "metadata": {},
     "outputs": [
      {
       "metadata": {},
       "output_type": "display_data",
       "png": "[encoded data removed]",
       "text": [
        "<matplotlib.figure.Figure at 0x111dc13d0>"
       ]
      }
     ],
     "prompt_number": 6
    },
    {
     "cell_type": "code",
     "collapsed": false,
     "input": [
      "import pystan"
     ],
     "language": "python",
     "metadata": {},
     "outputs": [],
     "prompt_number": 7
    },
    {
     "cell_type": "code",
     "collapsed": false,
     "input": [
      "model_code = \"\"\"\n",
      "data {\n",
      "    int N;\n",
      "    vector[N] x;\n",
      "    vector[N] y;\n",
      "}\n",
      "\n",
      "parameters {\n",
      "    real beta;\n",
      "}\n",
      "\n",
      "model {\n",
      "    y ~ normal(beta * x, 1);\n",
      "}\n",
      "\"\"\"\n",
      "model = pystan.StanModel(model_code=model_code)"
     ],
     "language": "python",
     "metadata": {},
     "outputs": [],
     "prompt_number": 8
    },
    {
     "cell_type": "code",
     "collapsed": false,
     "input": [
      "fit = model.sampling(data=dict(N=N, x=predictors, y=observations))"
     ],
     "language": "python",
     "metadata": {},
     "outputs": [
      {
       "output_type": "stream",
       "stream": "stderr",
       "text": [
        "/opt/local/Library/Frameworks/Python.framework/Versions/2.7/lib/python2.7/multiprocessing/queues.py:392: UserWarning: Pickling fit objects is an experimental feature!\n",
        "The relevant StanModel instance must be pickled along with this fit object.\n",
        "When unpickling the StanModel must be unpickled first.\n",
        "  return send(obj)\n",
        "/opt/local/Library/Frameworks/Python.framework/Versions/2.7/lib/python2.7/multiprocessing/queues.py:392: UserWarning: Pickling fit objects is an experimental feature!\n",
        "The relevant StanModel instance must be pickled along with this fit object.\n",
        "When unpickling the StanModel must be unpickled first.\n",
        "  return send(obj)\n",
        "/opt/local/Library/Frameworks/Python.framework/Versions/2.7/lib/python2.7/multiprocessing/queues.py:392: UserWarning: Pickling fit objects is an experimental feature!\n",
        "The relevant StanModel instance must be pickled along with this fit object.\n",
        "When unpickling the StanModel must be unpickled first.\n",
        "  return send(obj)\n",
        "/opt/local/Library/Frameworks/Python.framework/Versions/2.7/lib/python2.7/multiprocessing/queues.py:392: UserWarning: Pickling fit objects is an experimental feature!\n",
        "The relevant StanModel instance must be pickled along with this fit object.\n",
        "When unpickling the StanModel must be unpickled first.\n",
        "  return send(obj)\n"
       ]
      }
     ],
     "prompt_number": 9
    },
    {
     "cell_type": "code",
     "collapsed": false,
     "input": [
      "print fit"
     ],
     "language": "python",
     "metadata": {},
     "outputs": [
      {
       "output_type": "stream",
       "stream": "stdout",
       "text": [
        "Inference for Stan model: anon_model_1185d9d1af5763e93b14195b822ca6fc.\n",
        "4 chains, each with iter=2000; warmup=1000; thin=1; \n",
        "post-warmup draws per chain=1000, total post-warmup draws=4000.\n",
        "\n",
        "       mean se_mean     sd   2.5%    25%    50%    75%  97.5%  n_eff   Rhat\n",
        "beta   2.04  3.5e-3    0.1   1.84   1.97   2.04    2.1   2.23  820.0    1.0\n",
        "lp__ -39.82    0.02    0.7 -41.81  -40.0 -39.55 -39.36 -39.31  975.0    1.0\n",
        "\n",
        "Samples were drawn using NUTS(diag_e) at Tue Jun 23 08:21:17 2015.\n",
        "For each parameter, n_eff is a crude measure of effective sample size,\n",
        "and Rhat is the potential scale reduction factor on split chains (at \n",
        "convergence, Rhat=1).\n"
       ]
      }
     ],
     "prompt_number": 10
    },
    {
     "cell_type": "code",
     "collapsed": false,
     "input": [
      "samples = fit.extract()"
     ],
     "language": "python",
     "metadata": {},
     "outputs": [],
     "prompt_number": 11
    },
    {
     "cell_type": "code",
     "collapsed": false,
     "input": [
      "beta = samples['beta']\n",
      "mx = np.linspace(-3, 3)\n",
      "\n",
      "beta_high = np.percentile(beta, 97.5)\n",
      "beta_med  = np.percentile(beta, 50)\n",
      "beta_low  = np.percentile(beta, 2.5)\n",
      "\n",
      "\n",
      "plt.plot(mx, beta_high * mx)\n",
      "plt.fill_between(mx, beta_med  * mx)\n",
      "plt.plot(mx, beta_low  * mx)\n",
      "plt.scatter(predictors, observations)\n",
      "plt.show()"
     ],
     "language": "python",
     "metadata": {},
     "outputs": [
      {
       "metadata": {},
       "output_type": "display_data",
       "png": "[encoded data removed]",
       "text": [
        "<matplotlib.figure.Figure at 0x11b257190>"
       ]
      }
     ],
     "prompt_number": 12
    },
    {
     "cell_type": "code",
     "collapsed": false,
     "input": [],
     "language": "python",
     "metadata": {},
     "outputs": [],
     "prompt_number": 13
    }
   ],
   "metadata": {}
  }
 ]
}