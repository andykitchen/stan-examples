{
 "cells": [
  {
   "cell_type": "markdown",
   "metadata": {},
   "source": [
    "# Normal Distribution with a Prior\n",
    "\n",
    "An example of trying to estimate a quantity which cannot be smaller than zero and we believe is small. Normally distributed errors are assumed."
   ]
  },
  {
   "cell_type": "code",
   "execution_count": 1,
   "metadata": {
    "collapsed": true
   },
   "outputs": [],
   "source": [
    "import numpy as np\n",
    "\n",
    "import warnings\n",
    "warnings.filterwarnings('ignore')\n",
    "\n",
    "%matplotlib inline\n",
    "import matplotlib.pyplot as plt\n",
    "\n",
    "import pystan"
   ]
  },
  {
   "cell_type": "code",
   "execution_count": 2,
   "metadata": {
    "collapsed": false
   },
   "outputs": [],
   "source": [
    "model_code = \"\"\"\n",
    "data {\n",
    "    int<lower=1> N;\n",
    "    real y[N];\n",
    "    \n",
    "    real lam;\n",
    "}\n",
    "\n",
    "parameters {\n",
    "    real<lower=0> mu;\n",
    "}\n",
    "\n",
    "model {\n",
    "    mu ~ exponential(lam);\n",
    "\n",
    "    y ~ normal(mu, 1);\n",
    "}\n",
    "\"\"\"\n",
    "model = pystan.StanModel(model_code=model_code)"
   ]
  },
  {
   "cell_type": "code",
   "execution_count": 3,
   "metadata": {
    "collapsed": true
   },
   "outputs": [],
   "source": [
    "observations = np.random.normal(size=50) + 0.1\n",
    "data = dict(y=observations, N=len(observations), lam=2.)"
   ]
  },
  {
   "cell_type": "code",
   "execution_count": 4,
   "metadata": {
    "collapsed": false
   },
   "outputs": [
    {
     "data": {
      "image/png": "[encoded data removed]",
      "text/plain": [
       "<matplotlib.figure.Figure at 0x114fc1990>"
      ]
     },
     "metadata": {},
     "output_type": "display_data"
    }
   ],
   "source": [
    "fig, ax = plt.subplots(1, 1)\n",
    "\n",
    "ax.set_title('Generated Data')\n",
    "ax.set_xlabel('Value')\n",
    "ax.set_ylabel('Bucket Count')\n",
    "ax.hist(observations)\n",
    "plt.show()"
   ]
  },
  {
   "cell_type": "code",
   "execution_count": 5,
   "metadata": {
    "collapsed": false
   },
   "outputs": [
    {
     "name": "stdout",
     "output_type": "stream",
     "text": [
      "Inference for Stan model: anon_model_86c3440801ae2ef91473f8c95eb1e6ae.\n",
      "4 chains, each with iter=2000; warmup=1000; thin=1; \n",
      "post-warmup draws per chain=1000, total post-warmup draws=4000.\n",
      "\n",
      "       mean se_mean     sd   2.5%    25%    50%    75%  97.5%  n_eff   Rhat\n",
      "mu     0.11  3.3e-3   0.08 6.2e-3   0.04   0.09   0.16   0.32  625.0    1.0\n",
      "lp__ -24.95    0.04   0.75 -27.11  -25.2 -24.65 -24.42 -24.35  457.0    1.0\n",
      "\n",
      "Samples were drawn using NUTS(diag_e) at Thu Mar  3 16:33:43 2016.\n",
      "For each parameter, n_eff is a crude measure of effective sample size,\n",
      "and Rhat is the potential scale reduction factor on split chains (at \n",
      "convergence, Rhat=1).\n"
     ]
    }
   ],
   "source": [
    "fit = model.sampling(data=data)\n",
    "samples = fit.extract()\n",
    "print fit"
   ]
  },
  {
   "cell_type": "code",
   "execution_count": 6,
   "metadata": {
    "collapsed": false
   },
   "outputs": [
    {
     "data": {
      "image/png": "[encoded data removed]",
      "text/plain": [
       "<matplotlib.figure.Figure at 0x117e25050>"
      ]
     },
     "metadata": {},
     "output_type": "display_data"
    }
   ],
   "source": [
    "import scipy.stats\n",
    "\n",
    "def plot_kde_density_1d(d, ax=plt, **kwargs):\n",
    "    kernel = scipy.stats.gaussian_kde(d)\n",
    "    mid = d.mean()\n",
    "    under = d.min() - mid\n",
    "    over  = d.max() - mid\n",
    "    x = np.linspace(mid + under, mid + 1.5*over, 100)\n",
    "    ax.fill_between(x, kernel(x), **kwargs)\n",
    "\n",
    "fig, ax = plt.subplots(1, 1)\n",
    "\n",
    "ax.set_title('Posterior Distribution')\n",
    "ax.set_xlabel('Measured Quantity')\n",
    "ax.set_ylabel('Probability Density')\n",
    "plot_kde_density_1d(samples['mu'], ax=ax, alpha=.5)\n",
    "\n",
    "fig.show()"
   ]
  },
  {
   "cell_type": "markdown",
   "metadata": {},
   "source": [
    "# Priors Matter\n",
    "\n",
    "Without a prior, the standard calculation for confidence intervals yields lower bounds below zero, making them very hard to interpret."
   ]
  },
  {
   "cell_type": "code",
   "execution_count": 7,
   "metadata": {
    "collapsed": false
   },
   "outputs": [
    {
     "name": "stdout",
     "output_type": "stream",
     "text": [
      "Simple frequentist estimate:\n",
      "0.03 ± 0.26\n",
      "-0.23 / 0.03 / 0.29\n"
     ]
    }
   ],
   "source": [
    "mu_hat = observations.mean()\n",
    "err = 1.96 * observations.std() / np.sqrt(observations.shape[0])\n",
    "\n",
    "print \"Simple frequentist estimate:\"\n",
    "\n",
    "print \"{} ± {}\".format(np.round(mu_hat, 2),\n",
    "                       np.round(err, 2))\n",
    "\n",
    "print \"{} / {} / {}\".format(np.round(mu_hat - err, 2),\n",
    "                            np.round(mu_hat, 2),\n",
    "                            np.round(mu_hat + err, 2))"
   ]
  }
 ],
 "metadata": {
  "kernelspec": {
   "display_name": "Python 2",
   "language": "python",
   "name": "python2"
  },
  "language_info": {
   "codemirror_mode": {
    "name": "ipython",
    "version": 2
   },
   "file_extension": ".py",
   "mimetype": "text/x-python",
   "name": "python",
   "nbconvert_exporter": "python",
   "pygments_lexer": "ipython2",
   "version": "2.7.11"
  }
 },
 "nbformat": 4,
 "nbformat_minor": 0
}
