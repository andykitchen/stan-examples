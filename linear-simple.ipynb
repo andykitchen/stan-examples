{
 "cells": [
  {
   "cell_type": "markdown",
   "metadata": {},
   "source": [
    "# Linear Simple\n",
    "\n",
    "An simple least squares linear regression implemented in STAN."
   ]
  },
  {
   "cell_type": "code",
   "execution_count": 1,
   "metadata": {
    "collapsed": false
   },
   "outputs": [],
   "source": [
    "import numpy as np\n",
    "\n",
    "import warnings\n",
    "warnings.filterwarnings('ignore')\n",
    "\n",
    "%matplotlib inline\n",
    "import matplotlib.pyplot as plt\n",
    "\n",
    "import pystan"
   ]
  },
  {
   "cell_type": "code",
   "execution_count": 15,
   "metadata": {
    "collapsed": false
   },
   "outputs": [
    {
     "data": {
      "image/png": "[encoded data removed]",
      "text/plain": [
       "<matplotlib.figure.Figure at 0x11944b110>"
      ]
     },
     "metadata": {},
     "output_type": "display_data"
    }
   ],
   "source": [
    "N = 20\n",
    "l = .5\n",
    "\n",
    "predictors = l*np.random.randn(N)\n",
    "noise = np.random.randn(N)\n",
    "\n",
    "observations = 2. * predictors + noise\n",
    "\n",
    "fig, ax = plt.subplots(1,1)\n",
    "ax.set_title('Generated Data')\n",
    "ax.set_xlabel('predictors')\n",
    "ax.set_ylabel('observations')\n",
    "ax.scatter(predictors, observations)\n",
    "fig.show()"
   ]
  },
  {
   "cell_type": "code",
   "execution_count": 5,
   "metadata": {
    "collapsed": false
   },
   "outputs": [],
   "source": [
    "model_code = \"\"\"\n",
    "data {\n",
    "    int N;\n",
    "    vector[N] x;\n",
    "    vector[N] y;\n",
    "}\n",
    "\n",
    "parameters {\n",
    "    real beta;\n",
    "    real alpha;\n",
    "}\n",
    "\n",
    "model {\n",
    "    y ~ normal(beta * x + alpha, 1);\n",
    "}\n",
    "\"\"\"\n",
    "model = pystan.StanModel(model_code=model_code)"
   ]
  },
  {
   "cell_type": "code",
   "execution_count": 6,
   "metadata": {
    "collapsed": false
   },
   "outputs": [],
   "source": [
    "fit = model.sampling(data=dict(N=N, x=predictors, y=observations))"
   ]
  },
  {
   "cell_type": "code",
   "execution_count": 7,
   "metadata": {
    "collapsed": false
   },
   "outputs": [
    {
     "name": "stdout",
     "output_type": "stream",
     "text": [
      "Inference for Stan model: anon_model_ce3df646c9eeeb7a750582c66fd1925e.\n",
      "4 chains, each with iter=2000; warmup=1000; thin=1; \n",
      "post-warmup draws per chain=1000, total post-warmup draws=4000.\n",
      "\n",
      "        mean se_mean     sd   2.5%    25%    50%    75%  97.5%  n_eff   Rhat\n",
      "beta    1.38    0.01   0.44    0.5   1.09    1.4   1.67   2.22 1150.0    1.0\n",
      "alpha   0.09  6.9e-3   0.22  -0.35  -0.07   0.08   0.24   0.53 1046.0    1.0\n",
      "lp__   -10.6    0.04   0.97 -13.24 -10.97 -10.31   -9.9  -9.66  758.0    1.0\n",
      "\n",
      "Samples were drawn using NUTS(diag_e) at Thu Mar  3 14:00:48 2016.\n",
      "For each parameter, n_eff is a crude measure of effective sample size,\n",
      "and Rhat is the potential scale reduction factor on split chains (at \n",
      "convergence, Rhat=1).\n"
     ]
    }
   ],
   "source": [
    "print fit"
   ]
  },
  {
   "cell_type": "code",
   "execution_count": 8,
   "metadata": {
    "collapsed": false
   },
   "outputs": [],
   "source": [
    "samples = fit.extract()"
   ]
  },
  {
   "cell_type": "code",
   "execution_count": 9,
   "metadata": {
    "collapsed": true
   },
   "outputs": [],
   "source": [
    "alpha = samples['alpha'][:, np.newaxis]\n",
    "beta  = samples['beta'][:, np.newaxis]\n",
    "mx  = np.linspace(np.floor(np.min(predictors)) - 1, np.ceil(np.max(predictors)) + 1)\n",
    "yxx = np.outer(beta, mx) + alpha"
   ]
  },
  {
   "cell_type": "code",
   "execution_count": 12,
   "metadata": {
    "collapsed": false
   },
   "outputs": [
    {
     "data": {
      "image/png": "[encoded data removed]",
      "text/plain": [
       "<matplotlib.figure.Figure at 0x118e11190>"
      ]
     },
     "metadata": {},
     "output_type": "display_data"
    }
   ],
   "source": [
    "ymed = np.percentile(yxx,   50, axis=0)\n",
    "ymin = np.percentile(yxx,  2.5, axis=0)\n",
    "ymax = np.percentile(yxx, 97.5, axis=0)\n",
    "\n",
    "fig, ax = plt.subplots(1, 1)\n",
    "ax.set_title('Generated Data with Regression Line')\n",
    "ax.set_xlabel('x')\n",
    "ax.set_ylabel('y')\n",
    "ax.scatter(predictors, observations)\n",
    "ax.plot(mx, ymed)\n",
    "ax.fill_between(mx, ymin, ymax, alpha=0.2)\n",
    "fig.show()"
   ]
  }
 ],
 "metadata": {
  "kernelspec": {
   "display_name": "Python 2",
   "language": "python",
   "name": "python2"
  },
  "language_info": {
   "codemirror_mode": {
    "name": "ipython",
    "version": 2
   },
   "file_extension": ".py",
   "mimetype": "text/x-python",
   "name": "python",
   "nbconvert_exporter": "python",
   "pygments_lexer": "ipython2",
   "version": "2.7.11"
  }
 },
 "nbformat": 4,
 "nbformat_minor": 0
}
