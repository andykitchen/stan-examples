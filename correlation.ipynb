{
 "metadata": {
  "name": "",
  "signature": "sha256:708d8d37424679797e01cb3012a31bba80ff5c1dfb4ee534fab9f3bc0896b8db"
 },
 "nbformat": 3,
 "nbformat_minor": 0,
 "worksheets": [
  {
   "cells": [
    {
     "cell_type": "code",
     "collapsed": false,
     "input": [
      "import numpy as np"
     ],
     "language": "python",
     "metadata": {},
     "outputs": [],
     "prompt_number": 1
    },
    {
     "cell_type": "code",
     "collapsed": false,
     "input": [
      "import matplotlib.pyplot as plt\n",
      "%matplotlib inline"
     ],
     "language": "python",
     "metadata": {},
     "outputs": [],
     "prompt_number": 2
    },
    {
     "cell_type": "code",
     "collapsed": false,
     "input": [
      "N     = 20\n",
      "K     = 10\n",
      "mu    = np.zeros(K)\n",
      "tau   = np.diag(np.ones(K))\n",
      "Omega = np.identity(K)\n",
      "Omega[0,1] = 0.8\n",
      "Omega[2,3] = 0.7\n",
      "Omega[2,9] = 0.6\n",
      "Omega = Omega + np.tril(Omega.T, -1)\n",
      "\n",
      "Sigma = tau.dot(Omega).dot(tau)\n",
      "\n",
      "data = np.random.multivariate_normal(mu, Sigma, size=N)"
     ],
     "language": "python",
     "metadata": {},
     "outputs": [],
     "prompt_number": 3
    },
    {
     "cell_type": "code",
     "collapsed": false,
     "input": [
      "plt.scatter(data[:,0], data[:,4]);"
     ],
     "language": "python",
     "metadata": {},
     "outputs": [
      {
       "metadata": {},
       "output_type": "display_data",
       "png": "[encoded data removed]",
       "text": [
        "<matplotlib.figure.Figure at 0x1056cae50>"
       ]
      }
     ],
     "prompt_number": 4
    },
    {
     "cell_type": "code",
     "collapsed": false,
     "input": [
      "import pystan"
     ],
     "language": "python",
     "metadata": {},
     "outputs": [],
     "prompt_number": 5
    },
    {
     "cell_type": "code",
     "collapsed": false,
     "input": [
      "model_code = \"\"\"\n",
      "data {\n",
      "    int<lower=1> N;\n",
      "    int<lower=2> K;\n",
      "    real eta;\n",
      "    \n",
      "    vector[K] D[N];\n",
      "}\n",
      "\n",
      "parameters {\n",
      "    vector[K] mu;\n",
      "    vector<lower=0>[K] tau;\n",
      "    cholesky_factor_corr[K] L_Omega;\n",
      "}\n",
      "\n",
      "model {\n",
      "    matrix[K,K] L_Sigma;\n",
      "    L_Sigma <- diag_pre_multiply(tau, L_Omega);    \n",
      "\n",
      "    mu ~ cauchy(0,1);\n",
      "    tau ~ cauchy(0,1);\n",
      "    L_Omega ~ lkj_corr_cholesky(eta);\n",
      "\n",
      "    D ~ multi_normal_cholesky(mu, L_Sigma);\n",
      "}\n",
      "\n",
      "/*\n",
      "generated quantities {\n",
      "    matrix[K,K] Omega;    \n",
      "    Omega <- L_Omega * L_Omega';\n",
      "    \n",
      "    matrix[K,K] Sigma;\n",
      "    Sigma <- diag_pre_multiply(tau, L_Omega) * diag_pre_multiply(tau, L_Omega)';\n",
      "}\n",
      "*/\n",
      "\"\"\"\n",
      "model = pystan.StanModel(model_code=model_code)"
     ],
     "language": "python",
     "metadata": {},
     "outputs": [],
     "prompt_number": 6
    },
    {
     "cell_type": "code",
     "collapsed": false,
     "input": [
      "fit = model.sampling(data=dict(N=N, K=K, eta=2, D=data))"
     ],
     "language": "python",
     "metadata": {},
     "outputs": [
      {
       "output_type": "stream",
       "stream": "stderr",
       "text": [
        "/opt/local/Library/Frameworks/Python.framework/Versions/2.7/lib/python2.7/multiprocessing/queues.py:392: UserWarning: Pickling fit objects is an experimental feature!\n",
        "The relevant StanModel instance must be pickled along with this fit object.\n",
        "When unpickling the StanModel must be unpickled first.\n",
        "  return send(obj)\n",
        "/opt/local/Library/Frameworks/Python.framework/Versions/2.7/lib/python2.7/multiprocessing/queues.py:392: UserWarning: Pickling fit objects is an experimental feature!\n",
        "The relevant StanModel instance must be pickled along with this fit object.\n",
        "When unpickling the StanModel must be unpickled first.\n",
        "  return send(obj)\n",
        "/opt/local/Library/Frameworks/Python.framework/Versions/2.7/lib/python2.7/multiprocessing/queues.py:392: UserWarning: Pickling fit objects is an experimental feature!\n",
        "The relevant StanModel instance must be pickled along with this fit object.\n",
        "When unpickling the StanModel must be unpickled first.\n",
        "  return send(obj)\n",
        "/opt/local/Library/Frameworks/Python.framework/Versions/2.7/lib/python2.7/multiprocessing/queues.py:392: UserWarning: Pickling fit objects is an experimental feature!\n",
        "The relevant StanModel instance must be pickled along with this fit object.\n",
        "When unpickling the StanModel must be unpickled first.\n",
        "  return send(obj)\n"
       ]
      }
     ],
     "prompt_number": 7
    },
    {
     "cell_type": "code",
     "collapsed": false,
     "input": [
      "print fit"
     ],
     "language": "python",
     "metadata": {},
     "outputs": [
      {
       "output_type": "stream",
       "stream": "stdout",
       "text": [
        "Inference for Stan model: anon_model_805ac91baddaa22785f07fd7f93e0212.\n",
        "4 chains, each with iter=2000; warmup=1000; thin=1; \n",
        "post-warmup draws per chain=1000, total post-warmup draws=4000.\n",
        "\n",
        "               mean se_mean     sd   2.5%    25%    50%    75%  97.5%  n_eff   Rhat\n",
        "mu[0]         -0.03  4.9e-3   0.17  -0.36  -0.14  -0.03   0.07    0.3 1121.0    1.0\n",
        "mu[1]         -0.02  6.5e-3   0.22  -0.46  -0.16  -0.02   0.12   0.44 1137.0    1.0\n",
        "mu[2]          0.06  6.1e-3    0.2  -0.34  -0.08   0.05   0.19   0.43 1047.0    1.0\n",
        "mu[3]          0.19  6.8e-3   0.22  -0.25   0.05   0.19   0.35   0.61 1079.0    1.0\n",
        "mu[4]         -0.11  5.7e-3   0.19  -0.48  -0.23  -0.11   0.02   0.28 1145.0    1.0\n",
        "mu[5]          0.34  6.9e-3   0.24  -0.15   0.18   0.34   0.49   0.82 1224.0    1.0\n",
        "mu[6]         -0.26  7.0e-3   0.24  -0.72  -0.42  -0.26   -0.1   0.23 1180.0    1.0\n",
        "mu[7]         -0.03  5.4e-3    0.2  -0.42  -0.16  -0.02    0.1   0.35 1334.0    1.0\n",
        "mu[8]        1.1e-5  6.0e-3    0.2   -0.4  -0.13-1.0e-3   0.13   0.41 1164.0    1.0\n",
        "mu[9]       -6.7e-3  6.4e-3   0.22  -0.44  -0.15-7.9e-3   0.14   0.42 1177.0    1.0\n",
        "tau[0]         0.77  3.4e-3   0.12   0.58   0.69   0.76   0.84   1.04 1214.0    1.0\n",
        "tau[1]         1.02  4.8e-3   0.17   0.75    0.9   0.99   1.11   1.41 1188.0    1.0\n",
        "tau[2]         0.94  3.9e-3   0.13   0.72   0.85   0.92   1.01   1.23 1084.0    1.0\n",
        "tau[3]         1.04  4.7e-3   0.16   0.77   0.92   1.02   1.13    1.4 1153.0    1.0\n",
        "tau[4]         0.92  4.2e-3   0.15   0.68   0.81    0.9    1.0   1.25 1257.0    1.0\n",
        "tau[5]         1.13  6.1e-3    0.2   0.81   0.99    1.1   1.25   1.61 1125.0    1.0\n",
        "tau[6]         1.14  5.7e-3    0.2   0.83    1.0   1.12   1.25    1.6 1178.0    1.0\n",
        "tau[7]         0.91  4.9e-3   0.17   0.66   0.79   0.89   1.01    1.3 1175.0    1.0\n",
        "tau[8]         0.94  4.3e-3   0.16   0.68   0.83   0.92   1.03   1.29 1334.0    1.0\n",
        "tau[9]         1.07  4.6e-3   0.16   0.82   0.96   1.05   1.17   1.41 1124.0    1.0\n",
        "L_Omega[0,0]    1.0     0.0    0.0    1.0    1.0    1.0    1.0    1.0 4000.0    nan\n",
        "L_Omega[1,0]   0.48  4.3e-3   0.15   0.16   0.39    0.5   0.59   0.73 1202.0    1.0\n",
        "L_Omega[2,0]   0.29  4.4e-3   0.15-7.3e-3   0.19    0.3   0.39   0.56 1144.0    1.0\n",
        "L_Omega[3,0]   0.07  4.9e-3   0.17  -0.27  -0.05   0.07   0.18   0.39 1170.0    1.0\n",
        "L_Omega[4,0]   0.32  4.5e-3   0.16  -0.01   0.21   0.32   0.43   0.59 1232.0    1.0\n",
        "L_Omega[5,0] 7.9e-3  5.1e-3   0.18  -0.33  -0.11   0.01   0.13   0.35 1166.0    1.0\n",
        "L_Omega[6,0]  -0.18  4.7e-3   0.17   -0.5   -0.3  -0.19  -0.06   0.17 1334.0    1.0\n",
        "L_Omega[7,0]  -0.11  4.7e-3   0.17  -0.44  -0.23  -0.12 6.7e-3   0.22 1334.0    1.0\n",
        "L_Omega[8,0]   0.03  4.9e-3   0.17  -0.31  -0.09   0.03   0.15   0.36 1246.0    1.0\n",
        "L_Omega[9,0]   0.28  4.5e-3   0.16  -0.06   0.17   0.29   0.39   0.55 1226.0    1.0\n",
        "L_Omega[0,1]    0.0     0.0    0.0    0.0    0.0    0.0    0.0    0.0 4000.0    nan\n",
        "L_Omega[1,1]   0.86  2.4e-3   0.08   0.68   0.81   0.87   0.92   0.99 1190.0    1.0\n",
        "L_Omega[2,1]   0.03  5.0e-3   0.17  -0.29  -0.09   0.03   0.15   0.36 1144.0    1.0\n",
        "L_Omega[3,1]   0.02  5.1e-3   0.18  -0.33   -0.1   0.02   0.14   0.36 1227.0    1.0\n",
        "L_Omega[4,1]  -0.24  5.0e-3   0.17  -0.55  -0.37  -0.25  -0.13   0.12 1183.0    1.0\n",
        "L_Omega[5,1]   0.21  5.2e-3   0.19  -0.19   0.08   0.22   0.34   0.55 1334.0    1.0\n",
        "L_Omega[6,1]   0.03  5.3e-3   0.19  -0.33   -0.1   0.04   0.16    0.4 1256.0    1.0\n",
        "L_Omega[7,1]   0.05  5.1e-3   0.19  -0.31  -0.08   0.05   0.18    0.4 1334.0    1.0\n",
        "L_Omega[8,1]   0.08  5.2e-3   0.19  -0.29  -0.05   0.08    0.2   0.43 1283.0    1.0\n",
        "L_Omega[9,1]   0.02  5.0e-3   0.17  -0.32  -0.11   0.01   0.13   0.35 1196.0    1.0\n",
        "L_Omega[0,2]    0.0     0.0    0.0    0.0    0.0    0.0    0.0    0.0 4000.0    nan\n",
        "L_Omega[1,2]    0.0     0.0    0.0    0.0    0.0    0.0    0.0    0.0 4000.0    nan\n",
        "L_Omega[2,2]   0.93  1.5e-3   0.05   0.81    0.9   0.94   0.97    1.0 1154.0    1.0\n",
        "L_Omega[3,2]   0.51  4.0e-3   0.13   0.22   0.43   0.52    0.6   0.74 1109.0    1.0\n",
        "L_Omega[4,2]  -0.22  4.3e-3   0.15   -0.5  -0.33  -0.23  -0.12   0.09 1210.0    1.0\n",
        "L_Omega[5,2]   0.09  4.6e-3   0.16  -0.23  -0.02   0.09    0.2    0.4 1262.0    1.0\n",
        "L_Omega[6,2]   0.16  4.5e-3   0.16  -0.16   0.05   0.16   0.27   0.46 1250.0    1.0\n",
        "L_Omega[7,2]   0.08  4.5e-3   0.16  -0.23  -0.03   0.09   0.19    0.4 1269.0    1.0\n",
        "L_Omega[8,2]   0.16  4.5e-3   0.16  -0.17   0.05   0.16   0.27   0.46 1264.0    1.0\n",
        "L_Omega[9,2]   0.48  3.8e-3   0.13    0.2   0.39   0.49   0.57    0.7 1160.0    1.0\n",
        "L_Omega[0,3]    0.0     0.0    0.0    0.0    0.0    0.0    0.0    0.0 4000.0    nan\n",
        "L_Omega[1,3]    0.0     0.0    0.0    0.0    0.0    0.0    0.0    0.0 4000.0    nan\n",
        "L_Omega[2,3]    0.0     0.0    0.0    0.0    0.0    0.0    0.0    0.0 4000.0    nan\n",
        "L_Omega[3,3]   0.81  2.5e-3   0.08   0.64   0.75   0.81   0.87   0.95 1107.0    1.0\n",
        "L_Omega[4,3]   0.13  4.9e-3   0.16  -0.21   0.03   0.14   0.25   0.44 1145.0    1.0\n",
        "L_Omega[5,3]   0.02  4.8e-3   0.17  -0.32  -0.09   0.02   0.13   0.35 1263.0    1.0\n",
        "L_Omega[6,3]  -0.18  4.8e-3   0.17  -0.49  -0.29  -0.18  -0.07   0.17 1218.0    1.0\n",
        "L_Omega[7,3]   0.08  5.0e-3   0.17  -0.27  -0.03   0.08   0.21    0.4 1208.0    1.0\n",
        "L_Omega[8,3]   0.19  4.8e-3   0.17  -0.15   0.08    0.2   0.31    0.5 1173.0    1.0\n",
        "L_Omega[9,3]  -0.54  3.6e-3   0.12  -0.76  -0.63  -0.55  -0.47  -0.29 1153.0    1.0\n",
        "L_Omega[0,4]    0.0     0.0    0.0    0.0    0.0    0.0    0.0    0.0 4000.0    nan\n",
        "L_Omega[1,4]    0.0     0.0    0.0    0.0    0.0    0.0    0.0    0.0 4000.0    nan\n",
        "L_Omega[2,4]    0.0     0.0    0.0    0.0    0.0    0.0    0.0    0.0 4000.0    nan\n",
        "L_Omega[3,4]    0.0     0.0    0.0    0.0    0.0    0.0    0.0    0.0 4000.0    nan\n",
        "L_Omega[4,4]   0.81  2.7e-3   0.09   0.63   0.76   0.82   0.88   0.96 1078.0    1.0\n",
        "L_Omega[5,4]   0.08  5.3e-3   0.18  -0.28  -0.05   0.08   0.21   0.41 1157.0    1.0\n",
        "L_Omega[6,4]   0.15  5.0e-3   0.17  -0.21   0.03   0.15   0.27   0.47 1227.0    1.0\n",
        "L_Omega[7,4]   0.09  4.9e-3   0.17  -0.26  -0.03   0.09   0.21   0.41 1268.0    1.0\n",
        "L_Omega[8,4]    0.3  4.7e-3   0.16  -0.04    0.2   0.31   0.42   0.59 1218.0    1.0\n",
        "L_Omega[9,4]  -0.16  3.9e-3   0.13  -0.43  -0.24  -0.15  -0.07   0.11 1147.0    1.0\n",
        "L_Omega[0,5]    0.0     0.0    0.0    0.0    0.0    0.0    0.0    0.0 4000.0    nan\n",
        "L_Omega[1,5]    0.0     0.0    0.0    0.0    0.0    0.0    0.0    0.0 4000.0    nan\n",
        "L_Omega[2,5]    0.0     0.0    0.0    0.0    0.0    0.0    0.0    0.0 4000.0    nan\n",
        "L_Omega[3,5]    0.0     0.0    0.0    0.0    0.0    0.0    0.0    0.0 4000.0    nan\n",
        "L_Omega[4,5]    0.0     0.0    0.0    0.0    0.0    0.0    0.0    0.0 4000.0    nan\n",
        "L_Omega[5,5]   0.88  2.0e-3   0.06   0.73   0.85    0.9   0.93   0.98 1019.0    1.0\n",
        "L_Omega[6,5]  -0.16  4.4e-3   0.15  -0.45  -0.27  -0.16  -0.05   0.15 1247.0    1.0\n",
        "L_Omega[7,5]-3.2e-3  4.5e-3   0.16  -0.32  -0.11-3.8e-3   0.11   0.32 1334.0    1.0\n",
        "L_Omega[8,5]  -0.09  4.4e-3   0.15  -0.39  -0.19  -0.09   0.02   0.22 1244.0    1.0\n",
        "L_Omega[9,5]  -0.19  3.4e-3   0.11  -0.42  -0.27  -0.19  -0.12   0.04 1152.0    1.0\n",
        "L_Omega[0,6]    0.0     0.0    0.0    0.0    0.0    0.0    0.0    0.0 4000.0    nan\n",
        "L_Omega[1,6]    0.0     0.0    0.0    0.0    0.0    0.0    0.0    0.0 4000.0    nan\n",
        "L_Omega[2,6]    0.0     0.0    0.0    0.0    0.0    0.0    0.0    0.0 4000.0    nan\n",
        "L_Omega[3,6]    0.0     0.0    0.0    0.0    0.0    0.0    0.0    0.0 4000.0    nan\n",
        "L_Omega[4,6]    0.0     0.0    0.0    0.0    0.0    0.0    0.0    0.0 4000.0    nan\n",
        "L_Omega[5,6]    0.0     0.0    0.0    0.0    0.0    0.0    0.0    0.0 4000.0    nan\n",
        "L_Omega[6,6]   0.83  2.4e-3   0.08   0.65   0.78   0.84   0.89   0.96 1117.0    1.0\n",
        "L_Omega[7,6]    0.1  4.8e-3   0.17  -0.23  -0.01   0.11   0.22   0.42 1260.0    1.0\n",
        "L_Omega[8,6]   0.02  4.6e-3   0.16  -0.29  -0.09   0.02   0.13   0.34 1203.0    1.0\n",
        "L_Omega[9,6]  -0.02  3.3e-3   0.11  -0.24  -0.09  -0.02   0.05   0.22 1187.0    1.0\n",
        "L_Omega[0,7]    0.0     0.0    0.0    0.0    0.0    0.0    0.0    0.0 4000.0    nan\n",
        "L_Omega[1,7]    0.0     0.0    0.0    0.0    0.0    0.0    0.0    0.0 4000.0    nan\n",
        "L_Omega[2,7]    0.0     0.0    0.0    0.0    0.0    0.0    0.0    0.0 4000.0    nan\n",
        "L_Omega[3,7]    0.0     0.0    0.0    0.0    0.0    0.0    0.0    0.0 4000.0    nan\n",
        "L_Omega[4,7]    0.0     0.0    0.0    0.0    0.0    0.0    0.0    0.0 4000.0    nan\n",
        "L_Omega[5,7]    0.0     0.0    0.0    0.0    0.0    0.0    0.0    0.0 4000.0    nan\n",
        "L_Omega[6,7]    0.0     0.0    0.0    0.0    0.0    0.0    0.0    0.0 4000.0    nan\n",
        "L_Omega[7,7]   0.86  1.9e-3   0.06   0.72   0.82   0.87   0.91   0.96 1149.0    1.0\n",
        "L_Omega[8,7]  -0.29  4.2e-3   0.15  -0.55  -0.39   -0.3   -0.2   0.02 1226.0    1.0\n",
        "L_Omega[9,7]  -0.03  3.3e-3   0.11  -0.24  -0.09  -0.03   0.04   0.19 1074.0    1.0\n",
        "L_Omega[0,8]    0.0     0.0    0.0    0.0    0.0    0.0    0.0    0.0 4000.0    nan\n",
        "L_Omega[1,8]    0.0     0.0    0.0    0.0    0.0    0.0    0.0    0.0 4000.0    nan\n",
        "L_Omega[2,8]    0.0     0.0    0.0    0.0    0.0    0.0    0.0    0.0 4000.0    nan\n",
        "L_Omega[3,8]    0.0     0.0    0.0    0.0    0.0    0.0    0.0    0.0 4000.0    nan\n",
        "L_Omega[4,8]    0.0     0.0    0.0    0.0    0.0    0.0    0.0    0.0 4000.0    nan\n",
        "L_Omega[5,8]    0.0     0.0    0.0    0.0    0.0    0.0    0.0    0.0 4000.0    nan\n",
        "L_Omega[6,8]    0.0     0.0    0.0    0.0    0.0    0.0    0.0    0.0 4000.0    nan\n",
        "L_Omega[7,8]    0.0     0.0    0.0    0.0    0.0    0.0    0.0    0.0 4000.0    nan\n",
        "L_Omega[8,8]   0.72  2.7e-3   0.09   0.53   0.66   0.73   0.79    0.9 1191.0    1.0\n",
        "L_Omega[9,8]   0.02  3.5e-3   0.11  -0.21  -0.05   0.02   0.09   0.26 1051.0    1.0\n",
        "L_Omega[0,9]    0.0     0.0    0.0    0.0    0.0    0.0    0.0    0.0 4000.0    nan\n",
        "L_Omega[1,9]    0.0     0.0    0.0    0.0    0.0    0.0    0.0    0.0 4000.0    nan\n",
        "L_Omega[2,9]    0.0     0.0    0.0    0.0    0.0    0.0    0.0    0.0 4000.0    nan\n",
        "L_Omega[3,9]    0.0     0.0    0.0    0.0    0.0    0.0    0.0    0.0 4000.0    nan\n",
        "L_Omega[4,9]    0.0     0.0    0.0    0.0    0.0    0.0    0.0    0.0 4000.0    nan\n",
        "L_Omega[5,9]    0.0     0.0    0.0    0.0    0.0    0.0    0.0    0.0 4000.0    nan\n",
        "L_Omega[6,9]    0.0     0.0    0.0    0.0    0.0    0.0    0.0    0.0 4000.0    nan\n",
        "L_Omega[7,9]    0.0     0.0    0.0    0.0    0.0    0.0    0.0    0.0 4000.0    nan\n",
        "L_Omega[8,9]    0.0     0.0    0.0    0.0    0.0    0.0    0.0    0.0 4000.0    nan\n",
        "L_Omega[9,9]   0.42  2.9e-3    0.1   0.25   0.34   0.41   0.48   0.64 1176.0    1.0\n",
        "lp__         -75.74    0.22   6.19 -89.01 -79.78 -75.49 -71.36 -64.65  759.0    1.0\n",
        "\n",
        "Samples were drawn using NUTS(diag_e) at Tue Jun 23 12:17:47 2015.\n",
        "For each parameter, n_eff is a crude measure of effective sample size,\n",
        "and Rhat is the potential scale reduction factor on split chains (at \n",
        "convergence, Rhat=1).\n"
       ]
      }
     ],
     "prompt_number": 8
    },
    {
     "cell_type": "code",
     "collapsed": false,
     "input": [
      "samples = fit.extract()"
     ],
     "language": "python",
     "metadata": {},
     "outputs": [],
     "prompt_number": 9
    },
    {
     "cell_type": "code",
     "collapsed": false,
     "input": [
      "fit_L_Omega = samples['L_Omega']\n",
      "fit_Omega = np.empty_like(fit_L_Omega)\n",
      "N_samples = fit_Omega.shape[0]\n",
      "\n",
      "for i in range(N_samples):\n",
      "    fit_Omega[i] = fit_L_Omega[i].dot(fit_L_Omega[i].T)"
     ],
     "language": "python",
     "metadata": {},
     "outputs": [],
     "prompt_number": 10
    },
    {
     "cell_type": "code",
     "collapsed": false,
     "input": [
      "plt.hist(samples['mu'][:,0]);"
     ],
     "language": "python",
     "metadata": {},
     "outputs": [
      {
       "metadata": {},
       "output_type": "display_data",
       "png": "[encoded data removed]",
       "text": [
        "<matplotlib.figure.Figure at 0x10ed441d0>"
       ]
      }
     ],
     "prompt_number": 11
    },
    {
     "cell_type": "code",
     "collapsed": false,
     "input": [
      "plt.hist(fit_Omega[:,0,1]);"
     ],
     "language": "python",
     "metadata": {},
     "outputs": [
      {
       "metadata": {},
       "output_type": "display_data",
       "png": "[encoded data removed]",
       "text": [
        "<matplotlib.figure.Figure at 0x10f389d90>"
       ]
      }
     ],
     "prompt_number": 12
    },
    {
     "cell_type": "code",
     "collapsed": false,
     "input": [
      "Omega_low  = np.percentile(fit_Omega, 2.5, axis=0)\n",
      "Omega_med  = np.percentile(fit_Omega, 50, axis=0)\n",
      "Omega_high = np.percentile(fit_Omega, 97.5, axis=0)\n",
      "\n",
      "for j in range(K):\n",
      "    for i in range(j):\n",
      "        low  = Omega_low[i, j]\n",
      "        med  = Omega_med[i, j]\n",
      "        high = Omega_high[i, j]\n",
      "        if low > 0:\n",
      "            print \"({}, {}): {:.2f} - {:.2f} - {:.2f}\".format(i, j, low, med, high)"
     ],
     "language": "python",
     "metadata": {},
     "outputs": [
      {
       "output_type": "stream",
       "stream": "stdout",
       "text": [
        "(0, 1): 0.16 - 0.50 - 0.73\n",
        "(2, 3): 0.22 - 0.53 - 0.74\n",
        "(2, 9): 0.28 - 0.56 - 0.75\n"
       ]
      }
     ],
     "prompt_number": 13
    },
    {
     "cell_type": "code",
     "collapsed": false,
     "input": [
      "Omega_mean = np.mean(fit_Omega, axis=0)\n",
      "plt.pcolor(Omega_mean)\n",
      "plt.colorbar();"
     ],
     "language": "python",
     "metadata": {},
     "outputs": [
      {
       "metadata": {},
       "output_type": "display_data",
       "png": "[encoded data removed]",
       "text": [
        "<matplotlib.figure.Figure at 0x10fafa7d0>"
       ]
      }
     ],
     "prompt_number": 14
    },
    {
     "cell_type": "code",
     "collapsed": false,
     "input": [],
     "language": "python",
     "metadata": {},
     "outputs": [],
     "prompt_number": 14
    }
   ],
   "metadata": {}
  }
 ]
}