{
 "cells": [
  {
   "cell_type": "markdown",
   "metadata": {},
   "source": [
    "# Finding Correlations in High Dimensional Data\n",
    "\n",
    "Assuming our data is generated from a high-dimensional gaussian with unknown covariance matrix we would like to infer the full posterior distribution over the entire matrix given some data."
   ]
  },
  {
   "cell_type": "code",
   "execution_count": 1,
   "metadata": {
    "collapsed": false
   },
   "outputs": [],
   "source": [
    "import numpy as np\n",
    "\n",
    "import warnings\n",
    "warnings.filterwarnings('ignore')\n",
    "\n",
    "%matplotlib inline\n",
    "import matplotlib.pyplot as plt\n",
    "\n",
    "import pystan"
   ]
  },
  {
   "cell_type": "code",
   "execution_count": 2,
   "metadata": {
    "collapsed": false
   },
   "outputs": [],
   "source": [
    "N     = 20                  # number of data points\n",
    "K     = 10                  # number of dimensions\n",
    "mu    = np.zeros(K)         # mean for generated data\n",
    "tau   = np.diag(np.ones(K)) # variance for generated data\n",
    "Omega = np.identity(K)      # correlation matrix for generated data\n",
    "\n",
    "# Create some correlations\n",
    "Omega[0,1] = 0.8\n",
    "Omega[2,3] = 0.7\n",
    "Omega[2,9] = 0.6\n",
    "\n",
    "# Make omega symmetric\n",
    "Omega = Omega + np.tril(Omega.T, -1)\n",
    "\n",
    "# Multiply the columns and rows of the correlation matrix\n",
    "# by variances to get a covariance matrix\n",
    "Sigma = tau.dot(Omega).dot(tau)\n",
    "\n",
    "data = np.random.multivariate_normal(mu, Sigma, size=N)"
   ]
  },
  {
   "cell_type": "code",
   "execution_count": 3,
   "metadata": {
    "collapsed": false
   },
   "outputs": [
    {
     "data": {
      "image/png": "[encoded data removed]",
      "text/plain": [
       "<matplotlib.figure.Figure at 0x113274f90>"
      ]
     },
     "metadata": {},
     "output_type": "display_data"
    }
   ],
   "source": [
    "plt.scatter(data[:,0], data[:,4]);"
   ]
  },
  {
   "cell_type": "code",
   "execution_count": 4,
   "metadata": {
    "collapsed": false
   },
   "outputs": [],
   "source": [
    "model_code = \"\"\"\n",
    "data {\n",
    "    int<lower=1> N;\n",
    "    int<lower=2> K;\n",
    "    real eta;\n",
    "    \n",
    "    vector[K] X[N];\n",
    "}\n",
    "\n",
    "parameters {\n",
    "    vector[K] mu;\n",
    "    vector<lower=0>[K] tau;\n",
    "    cholesky_factor_corr[K] L_Omega;\n",
    "}\n",
    "\n",
    "model {\n",
    "    matrix[K,K] L_Sigma;\n",
    "    L_Sigma <- diag_pre_multiply(tau, L_Omega);    \n",
    "\n",
    "    mu ~ cauchy(0,1);\n",
    "    tau ~ cauchy(0,1);\n",
    "    L_Omega ~ lkj_corr_cholesky(eta);\n",
    "\n",
    "    X ~ multi_normal_cholesky(mu, L_Sigma);\n",
    "}\n",
    "\n",
    "/*\n",
    "generated quantities {\n",
    "    matrix[K,K] Omega;    \n",
    "    Omega <- L_Omega * L_Omega';\n",
    "    \n",
    "    matrix[K,K] Sigma;\n",
    "    Sigma <- diag_pre_multiply(tau, L_Omega) * diag_pre_multiply(tau, L_Omega)';\n",
    "}\n",
    "*/\n",
    "\"\"\"\n",
    "model = pystan.StanModel(model_code=model_code)"
   ]
  },
  {
   "cell_type": "code",
   "execution_count": 5,
   "metadata": {
    "collapsed": false
   },
   "outputs": [],
   "source": [
    "fit = model.sampling(data=dict(N=N, K=K, eta=2, X=data))"
   ]
  },
  {
   "cell_type": "code",
   "execution_count": 6,
   "metadata": {
    "collapsed": false
   },
   "outputs": [
    {
     "name": "stdout",
     "output_type": "stream",
     "text": [
      "Inference for Stan model: anon_model_f4c68e80c53f3d15a92e903208be179f.\n",
      "4 chains, each with iter=2000; warmup=1000; thin=1; \n",
      "post-warmup draws per chain=1000, total post-warmup draws=4000.\n",
      "\n",
      "               mean se_mean     sd   2.5%    25%    50%    75%  97.5%  n_eff   Rhat\n",
      "mu[0]         -0.01  6.0e-3    0.2  -0.42  -0.14  -0.01   0.12    0.4 1155.0    1.0\n",
      "mu[1]          0.16  5.6e-3   0.19  -0.21   0.03   0.16   0.29   0.55 1180.0    1.0\n",
      "mu[2]         -0.01  6.8e-3   0.23  -0.48  -0.17  -0.01   0.13   0.45 1137.0    1.0\n",
      "mu[3]          0.26  6.3e-3   0.22  -0.18   0.11   0.26   0.41    0.7 1243.0    1.0\n",
      "mu[4]          0.13  6.8e-3   0.23  -0.32  -0.01   0.13   0.28   0.59 1137.0    1.0\n",
      "mu[5]         -0.04  6.2e-3   0.22  -0.47  -0.18  -0.04    0.1   0.41 1211.0    1.0\n",
      "mu[6]         -0.11  7.9e-3   0.27  -0.66  -0.28   -0.1   0.06   0.41 1155.0    1.0\n",
      "mu[7]        8.6e-3  6.8e-3   0.24  -0.47  -0.14   0.01   0.16   0.48 1221.0    1.0\n",
      "mu[8]         -0.05  6.4e-3   0.21  -0.48  -0.18  -0.04   0.09   0.38 1125.0    1.0\n",
      "mu[9]         -0.17  6.4e-3   0.21   -0.6  -0.32  -0.17  -0.03   0.25 1127.0    1.0\n",
      "tau[0]         0.94  4.2e-3   0.15    0.7   0.83   0.92   1.02   1.29 1334.0    1.0\n",
      "tau[1]         0.91  4.2e-3   0.15   0.67   0.81   0.89    1.0   1.23 1235.0    1.0\n",
      "tau[2]          1.1  4.8e-3   0.16   0.84   0.99   1.08   1.19   1.47 1064.0    1.0\n",
      "tau[3]         1.05  5.1e-3   0.17   0.79   0.93   1.03   1.15   1.43 1083.0    1.0\n",
      "tau[4]         1.06  5.3e-3   0.19   0.76   0.93   1.04   1.17   1.48 1245.0    1.0\n",
      "tau[5]         0.99  5.2e-3   0.18   0.71   0.86   0.97   1.09    1.4 1183.0    1.0\n",
      "tau[6]         1.26  6.5e-3   0.23    0.9    1.1   1.23   1.39   1.78 1217.0    1.0\n",
      "tau[7]         1.13  5.3e-3   0.19   0.83    1.0   1.11   1.24   1.57 1244.0    1.0\n",
      "tau[8]          1.0  4.8e-3   0.16   0.73   0.88   0.98   1.09   1.38 1162.0    1.0\n",
      "tau[9]         1.01  4.7e-3   0.16   0.76    0.9    1.0    1.1   1.36 1132.0    1.0\n",
      "L_Omega[0,0]    1.0     0.0    0.0    1.0    1.0    1.0    1.0    1.0 4000.0    nan\n",
      "L_Omega[1,0]   0.52  4.2e-3   0.15   0.17   0.42   0.54   0.63   0.76 1334.0    1.0\n",
      "L_Omega[2,0]  -0.07  4.9e-3   0.16  -0.39  -0.19  -0.08   0.04   0.25 1115.0    1.0\n",
      "L_Omega[3,0]  -0.07  4.8e-3   0.16  -0.39  -0.19  -0.08   0.04   0.26 1173.0    1.0\n",
      "L_Omega[4,0]  -0.03  4.8e-3   0.17  -0.37  -0.15  -0.03   0.08   0.31 1334.0    1.0\n",
      "L_Omega[5,0]   0.09  4.8e-3   0.17  -0.26  -0.03   0.09   0.21   0.42 1334.0    1.0\n",
      "L_Omega[6,0]   0.02  4.8e-3   0.17  -0.31  -0.11   0.02   0.14   0.35 1334.0    1.0\n",
      "L_Omega[7,0]   0.07  4.8e-3   0.17  -0.28  -0.04   0.07   0.19   0.39 1334.0    1.0\n",
      "L_Omega[8,0]   0.07  4.9e-3   0.17  -0.27  -0.05   0.08   0.19    0.4 1257.0    1.0\n",
      "L_Omega[9,0]  -0.23  4.8e-3   0.17  -0.53  -0.34  -0.23  -0.11   0.12 1209.0    1.0\n",
      "L_Omega[0,1]    0.0     0.0    0.0    0.0    0.0    0.0    0.0    0.0 4000.0    nan\n",
      "L_Omega[1,1]   0.84  2.5e-3   0.09   0.64   0.78   0.84   0.91   0.99 1334.0    1.0\n",
      "L_Omega[2,1]   0.04  5.2e-3   0.17  -0.29  -0.08   0.05   0.16   0.38 1113.0    1.0\n",
      "L_Omega[3,1]  -0.02  5.3e-3   0.18  -0.37  -0.15  -0.02    0.1   0.34 1172.0    1.0\n",
      "L_Omega[4,1]    0.1  5.2e-3   0.19  -0.28  -0.03    0.1   0.23   0.45 1334.0    1.0\n",
      "L_Omega[5,1]  -0.04  5.3e-3   0.19  -0.42  -0.17  -0.04    0.1   0.34 1334.0    1.0\n",
      "L_Omega[6,1]  -0.08  5.4e-3    0.2  -0.44  -0.21  -0.08   0.06   0.32 1334.0    1.0\n",
      "L_Omega[7,1]   0.21  5.0e-3   0.18  -0.17   0.09   0.21   0.33   0.55 1334.0    1.0\n",
      "L_Omega[8,1]   0.01  5.1e-3   0.19  -0.35  -0.11   0.01   0.14   0.38 1334.0    1.0\n",
      "L_Omega[9,1]  -0.04  5.4e-3   0.18  -0.39  -0.16  -0.04   0.09   0.32 1147.0    1.0\n",
      "L_Omega[0,2]    0.0     0.0    0.0    0.0    0.0    0.0    0.0    0.0 4000.0    nan\n",
      "L_Omega[1,2]    0.0     0.0    0.0    0.0    0.0    0.0    0.0    0.0 4000.0    nan\n",
      "L_Omega[2,2]   0.97  9.9e-4   0.03   0.88   0.95   0.98   0.99    1.0 1088.0    1.0\n",
      "L_Omega[3,2]   0.56  3.6e-3   0.12   0.29   0.49   0.58   0.65   0.77 1165.0    1.0\n",
      "L_Omega[4,2]   0.11  4.4e-3   0.16   -0.2 5.7e-3   0.12   0.22   0.41 1272.0    1.0\n",
      "L_Omega[5,2]   0.07  4.5e-3   0.16  -0.26  -0.04   0.07   0.18   0.38 1334.0    1.0\n",
      "L_Omega[6,2]   0.03  4.4e-3   0.16  -0.28  -0.08   0.03   0.14   0.34 1334.0    1.0\n",
      "L_Omega[7,2]-6.5e-3  4.2e-3   0.16  -0.32  -0.11-6.9e-3    0.1   0.29 1334.0    1.0\n",
      "L_Omega[8,2]   0.13  4.3e-3   0.15  -0.17   0.02   0.13   0.23   0.41 1229.0    1.0\n",
      "L_Omega[9,2]    0.5  3.7e-3   0.13   0.22   0.42   0.51   0.59   0.72 1169.0    1.0\n",
      "L_Omega[0,3]    0.0     0.0    0.0    0.0    0.0    0.0    0.0    0.0 4000.0    nan\n",
      "L_Omega[1,3]    0.0     0.0    0.0    0.0    0.0    0.0    0.0    0.0 4000.0    nan\n",
      "L_Omega[2,3]    0.0     0.0    0.0    0.0    0.0    0.0    0.0    0.0 4000.0    nan\n",
      "L_Omega[3,3]   0.77  2.7e-3   0.09   0.59   0.71   0.77   0.83   0.93 1088.0    1.0\n",
      "L_Omega[4,3]   0.05  4.8e-3   0.18  -0.29  -0.07   0.06   0.18   0.39 1334.0    1.0\n",
      "L_Omega[5,3]  -0.05  4.7e-3   0.17  -0.38  -0.17  -0.05   0.07   0.29 1334.0    1.0\n",
      "L_Omega[6,3]   0.01  4.9e-3   0.18  -0.34  -0.11   0.01   0.14   0.35 1334.0    1.0\n",
      "L_Omega[7,3]   0.04  4.9e-3   0.18  -0.31  -0.09   0.03   0.16   0.38 1334.0    1.0\n",
      "L_Omega[8,3]  -0.14  4.7e-3   0.17  -0.46  -0.26  -0.14  -0.02   0.22 1334.0    1.0\n",
      "L_Omega[9,3]   -0.4  4.2e-3   0.15  -0.65   -0.5  -0.41  -0.31  -0.09 1189.0    1.0\n",
      "L_Omega[0,4]    0.0     0.0    0.0    0.0    0.0    0.0    0.0    0.0 4000.0    nan\n",
      "L_Omega[1,4]    0.0     0.0    0.0    0.0    0.0    0.0    0.0    0.0 4000.0    nan\n",
      "L_Omega[2,4]    0.0     0.0    0.0    0.0    0.0    0.0    0.0    0.0 4000.0    nan\n",
      "L_Omega[3,4]    0.0     0.0    0.0    0.0    0.0    0.0    0.0    0.0 4000.0    nan\n",
      "L_Omega[4,4]   0.92  1.5e-3   0.05    0.8   0.89   0.93   0.96   0.99 1080.0    1.0\n",
      "L_Omega[5,4]  -0.15  4.6e-3   0.16  -0.45  -0.26  -0.15  -0.04   0.19 1257.0    1.0\n",
      "L_Omega[6,4]  -0.02  4.7e-3   0.17  -0.36  -0.14  -0.02    0.1   0.32 1334.0    1.0\n",
      "L_Omega[7,4]  -0.11  4.8e-3   0.17  -0.42  -0.23  -0.11 3.3e-3   0.22 1234.0    1.0\n",
      "L_Omega[8,4]  -0.23  4.8e-3   0.17  -0.53  -0.34  -0.23  -0.12   0.12 1233.0    1.0\n",
      "L_Omega[9,4]   0.02  4.2e-3   0.14  -0.27  -0.08   0.02   0.11   0.28 1136.0    1.0\n",
      "L_Omega[0,5]    0.0     0.0    0.0    0.0    0.0    0.0    0.0    0.0 4000.0    nan\n",
      "L_Omega[1,5]    0.0     0.0    0.0    0.0    0.0    0.0    0.0    0.0 4000.0    nan\n",
      "L_Omega[2,5]    0.0     0.0    0.0    0.0    0.0    0.0    0.0    0.0 4000.0    nan\n",
      "L_Omega[3,5]    0.0     0.0    0.0    0.0    0.0    0.0    0.0    0.0 4000.0    nan\n",
      "L_Omega[4,5]    0.0     0.0    0.0    0.0    0.0    0.0    0.0    0.0 4000.0    nan\n",
      "L_Omega[5,5]    0.9  1.7e-3   0.06   0.76   0.87   0.91   0.94   0.98 1107.0    1.0\n",
      "L_Omega[6,5]  -0.11  4.5e-3   0.16  -0.42  -0.22  -0.11 7.0e-3   0.22 1334.0    1.0\n",
      "L_Omega[7,5]   0.13  4.5e-3   0.16   -0.2   0.02   0.14   0.25   0.43 1334.0    1.0\n",
      "L_Omega[8,5]   0.19  4.6e-3   0.16  -0.15   0.08   0.19    0.3    0.5 1248.0    1.0\n",
      "L_Omega[9,5]   0.02  3.9e-3   0.14  -0.23  -0.07   0.02   0.11   0.29 1207.0    1.0\n",
      "L_Omega[0,6]    0.0     0.0    0.0    0.0    0.0    0.0    0.0    0.0 4000.0    nan\n",
      "L_Omega[1,6]    0.0     0.0    0.0    0.0    0.0    0.0    0.0    0.0 4000.0    nan\n",
      "L_Omega[2,6]    0.0     0.0    0.0    0.0    0.0    0.0    0.0    0.0 4000.0    nan\n",
      "L_Omega[3,6]    0.0     0.0    0.0    0.0    0.0    0.0    0.0    0.0 4000.0    nan\n",
      "L_Omega[4,6]    0.0     0.0    0.0    0.0    0.0    0.0    0.0    0.0 4000.0    nan\n",
      "L_Omega[5,6]    0.0     0.0    0.0    0.0    0.0    0.0    0.0    0.0 4000.0    nan\n",
      "L_Omega[6,6]   0.89  1.7e-3   0.06   0.76   0.86    0.9   0.93   0.97 1101.0    1.0\n",
      "L_Omega[7,6]  -0.07  4.5e-3   0.16  -0.38  -0.18  -0.07   0.04   0.25 1235.0    1.0\n",
      "L_Omega[8,6]  -0.05  4.3e-3   0.16  -0.34  -0.16  -0.04   0.06   0.25 1274.0    1.0\n",
      "L_Omega[9,6]  -0.21  3.7e-3   0.13  -0.46  -0.29  -0.21  -0.12   0.05 1230.0    1.0\n",
      "L_Omega[0,7]    0.0     0.0    0.0    0.0    0.0    0.0    0.0    0.0 4000.0    nan\n",
      "L_Omega[1,7]    0.0     0.0    0.0    0.0    0.0    0.0    0.0    0.0 4000.0    nan\n",
      "L_Omega[2,7]    0.0     0.0    0.0    0.0    0.0    0.0    0.0    0.0 4000.0    nan\n",
      "L_Omega[3,7]    0.0     0.0    0.0    0.0    0.0    0.0    0.0    0.0 4000.0    nan\n",
      "L_Omega[4,7]    0.0     0.0    0.0    0.0    0.0    0.0    0.0    0.0 4000.0    nan\n",
      "L_Omega[5,7]    0.0     0.0    0.0    0.0    0.0    0.0    0.0    0.0 4000.0    nan\n",
      "L_Omega[6,7]    0.0     0.0    0.0    0.0    0.0    0.0    0.0    0.0 4000.0    nan\n",
      "L_Omega[7,7]   0.84  2.1e-3   0.07   0.68    0.8   0.85    0.9   0.96 1132.0    1.0\n",
      "L_Omega[8,7]   0.32  4.4e-3   0.15   0.01   0.22   0.33   0.43   0.59 1177.0    1.0\n",
      "L_Omega[9,7]  -0.03  3.6e-3   0.12  -0.29  -0.12  -0.03   0.05   0.21 1206.0    1.0\n",
      "L_Omega[0,8]    0.0     0.0    0.0    0.0    0.0    0.0    0.0    0.0 4000.0    nan\n",
      "L_Omega[1,8]    0.0     0.0    0.0    0.0    0.0    0.0    0.0    0.0 4000.0    nan\n",
      "L_Omega[2,8]    0.0     0.0    0.0    0.0    0.0    0.0    0.0    0.0 4000.0    nan\n",
      "L_Omega[3,8]    0.0     0.0    0.0    0.0    0.0    0.0    0.0    0.0 4000.0    nan\n",
      "L_Omega[4,8]    0.0     0.0    0.0    0.0    0.0    0.0    0.0    0.0 4000.0    nan\n",
      "L_Omega[5,8]    0.0     0.0    0.0    0.0    0.0    0.0    0.0    0.0 4000.0    nan\n",
      "L_Omega[6,8]    0.0     0.0    0.0    0.0    0.0    0.0    0.0    0.0 4000.0    nan\n",
      "L_Omega[7,8]    0.0     0.0    0.0    0.0    0.0    0.0    0.0    0.0 4000.0    nan\n",
      "L_Omega[8,8]   0.74  2.5e-3   0.09   0.56   0.68   0.74    0.8    0.9 1205.0    1.0\n",
      "L_Omega[9,8]   0.01  4.2e-3   0.14  -0.25  -0.08 9.5e-3    0.1   0.29 1038.0    1.0\n",
      "L_Omega[0,9]    0.0     0.0    0.0    0.0    0.0    0.0    0.0    0.0 4000.0    nan\n",
      "L_Omega[1,9]    0.0     0.0    0.0    0.0    0.0    0.0    0.0    0.0 4000.0    nan\n",
      "L_Omega[2,9]    0.0     0.0    0.0    0.0    0.0    0.0    0.0    0.0 4000.0    nan\n",
      "L_Omega[3,9]    0.0     0.0    0.0    0.0    0.0    0.0    0.0    0.0 4000.0    nan\n",
      "L_Omega[4,9]    0.0     0.0    0.0    0.0    0.0    0.0    0.0    0.0 4000.0    nan\n",
      "L_Omega[5,9]    0.0     0.0    0.0    0.0    0.0    0.0    0.0    0.0 4000.0    nan\n",
      "L_Omega[6,9]    0.0     0.0    0.0    0.0    0.0    0.0    0.0    0.0 4000.0    nan\n",
      "L_Omega[7,9]    0.0     0.0    0.0    0.0    0.0    0.0    0.0    0.0 4000.0    nan\n",
      "L_Omega[8,9]    0.0     0.0    0.0    0.0    0.0    0.0    0.0    0.0 4000.0    nan\n",
      "L_Omega[9,9]   0.54  3.1e-3    0.1   0.36   0.47   0.54   0.61   0.76 1118.0    1.0\n",
      "lp__         -92.85    0.21   6.01 -105.9 -96.59 -92.28 -88.62 -82.64  819.0    1.0\n",
      "\n",
      "Samples were drawn using NUTS(diag_e) at Thu Mar  3 16:31:43 2016.\n",
      "For each parameter, n_eff is a crude measure of effective sample size,\n",
      "and Rhat is the potential scale reduction factor on split chains (at \n",
      "convergence, Rhat=1).\n"
     ]
    }
   ],
   "source": [
    "print fit"
   ]
  },
  {
   "cell_type": "code",
   "execution_count": 7,
   "metadata": {
    "collapsed": false
   },
   "outputs": [],
   "source": [
    "samples = fit.extract()\n",
    "L_Omega_samples = samples['L_Omega']\n",
    "Omega_samples = np.matmul(L_Omega_samples, L_Omega_samples.transpose(0,2,1))"
   ]
  },
  {
   "cell_type": "code",
   "execution_count": 8,
   "metadata": {
    "collapsed": false
   },
   "outputs": [
    {
     "data": {
      "image/png": "[encoded data removed]",
      "text/plain": [
       "<matplotlib.figure.Figure at 0x1176650d0>"
      ]
     },
     "metadata": {},
     "output_type": "display_data"
    }
   ],
   "source": [
    "plt.hist(Omega_samples[:,0,1]);"
   ]
  },
  {
   "cell_type": "code",
   "execution_count": 9,
   "metadata": {
    "collapsed": false
   },
   "outputs": [
    {
     "name": "stdout",
     "output_type": "stream",
     "text": [
      "(0, 1): 0.17 - 0.54 - 0.76\n",
      "(2, 3): 0.28 - 0.59 - 0.79\n",
      "(7, 8): 0.01 - 0.38 - 0.67\n",
      "(2, 9): 0.24 - 0.54 - 0.75\n"
     ]
    }
   ],
   "source": [
    "Omega_mean = np.mean(Omega_samples, axis=0)\n",
    "Omega_low  = np.percentile(Omega_samples, 2.5, axis=0)\n",
    "Omega_med  = np.percentile(Omega_samples, 50, axis=0)\n",
    "Omega_high = np.percentile(Omega_samples, 97.5, axis=0)\n",
    "\n",
    "for j in range(K):\n",
    "    for i in range(j):\n",
    "        low  = Omega_low[i, j]\n",
    "        med  = Omega_med[i, j]\n",
    "        high = Omega_high[i, j]\n",
    "        if low > 0:\n",
    "            print \"({}, {}): {:.2f} - {:.2f} - {:.2f}\".format(i, j, low, med, high)"
   ]
  },
  {
   "cell_type": "code",
   "execution_count": 10,
   "metadata": {
    "collapsed": false
   },
   "outputs": [
    {
     "data": {
      "image/png": "[encoded data removed]",
      "text/plain": [
       "<matplotlib.figure.Figure at 0x11740e050>"
      ]
     },
     "metadata": {},
     "output_type": "display_data"
    }
   ],
   "source": [
    "plt.pcolormesh(Omega_low, cmap='RdBu_r', vmin=-1, vmax=1)\n",
    "plt.colorbar();"
   ]
  }
 ],
 "metadata": {
  "kernelspec": {
   "display_name": "Python 2",
   "language": "python",
   "name": "python2"
  },
  "language_info": {
   "codemirror_mode": {
    "name": "ipython",
    "version": 2
   },
   "file_extension": ".py",
   "mimetype": "text/x-python",
   "name": "python",
   "nbconvert_exporter": "python",
   "pygments_lexer": "ipython2",
   "version": "2.7.11"
  }
 },
 "nbformat": 4,
 "nbformat_minor": 0
}
