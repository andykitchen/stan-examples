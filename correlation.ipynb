{
 "cells": [
  {
   "cell_type": "markdown",
   "metadata": {},
   "source": [
    "# Finding Correlations in High Dimensional Data\n",
    "\n",
    "Assuming our data is generated from a high-dimensional gaussian with unknown covariance matrix we would like to infer the full posterior distribution over the entire matrix given some data."
   ]
  },
  {
   "cell_type": "code",
   "execution_count": 1,
   "metadata": {
    "collapsed": false
   },
   "outputs": [],
   "source": [
    "import numpy as np\n",
    "\n",
    "import warnings\n",
    "warnings.filterwarnings('ignore')\n",
    "\n",
    "%matplotlib inline\n",
    "import matplotlib.pyplot as plt\n",
    "\n",
    "import pystan"
   ]
  },
  {
   "cell_type": "code",
   "execution_count": 2,
   "metadata": {
    "collapsed": false
   },
   "outputs": [],
   "source": [
    "N     = 20                  # number of data points\n",
    "K     = 10                  # number of dimensions\n",
    "mu    = np.zeros(K)         # mean for generated data\n",
    "tau   = np.diag(np.ones(K)) # variance for generated data\n",
    "Omega = np.identity(K)      # correlation matrix for generated data\n",
    "\n",
    "# Create some correlations\n",
    "Omega[0,1] = 0.8\n",
    "Omega[2,3] = 0.7\n",
    "Omega[2,9] = 0.6\n",
    "\n",
    "# Make omega symmetric\n",
    "Omega = Omega + np.tril(Omega.T, -1)\n",
    "\n",
    "# Multiply the columns and rows of the correlation matrix\n",
    "# by variances to get a covariance matrix\n",
    "Sigma = tau.dot(Omega).dot(tau)\n",
    "\n",
    "data = np.random.multivariate_normal(mu, Sigma, size=N)"
   ]
  },
  {
   "cell_type": "code",
   "execution_count": 3,
   "metadata": {
    "collapsed": false
   },
   "outputs": [
    {
     "data": {
      "image/png": "[encoded data removed]",
      "text/plain": [
       "<matplotlib.figure.Figure at 0x113cb7ad0>"
      ]
     },
     "metadata": {},
     "output_type": "display_data"
    }
   ],
   "source": [
    "plt.scatter(data[:,0], data[:,4]);"
   ]
  },
  {
   "cell_type": "code",
   "execution_count": 5,
   "metadata": {
    "collapsed": false
   },
   "outputs": [],
   "source": [
    "model_code = \"\"\"\n",
    "data {\n",
    "    int<lower=1> N;\n",
    "    int<lower=2> K;\n",
    "    real eta;\n",
    "    \n",
    "    vector[K] X[N];\n",
    "}\n",
    "\n",
    "parameters {\n",
    "    vector[K] mu;\n",
    "    vector<lower=0>[K] tau;\n",
    "    cholesky_factor_corr[K] L_Omega;\n",
    "}\n",
    "\n",
    "model {\n",
    "    matrix[K,K] L_Sigma;\n",
    "    L_Sigma <- diag_pre_multiply(tau, L_Omega);    \n",
    "\n",
    "    mu ~ cauchy(0,1);\n",
    "    tau ~ cauchy(0,1);\n",
    "    L_Omega ~ lkj_corr_cholesky(eta);\n",
    "\n",
    "    X ~ multi_normal_cholesky(mu, L_Sigma);\n",
    "}\n",
    "\n",
    "/*\n",
    "generated quantities {\n",
    "    matrix[K,K] Omega;    \n",
    "    Omega <- L_Omega * L_Omega';\n",
    "    \n",
    "    matrix[K,K] Sigma;\n",
    "    Sigma <- diag_pre_multiply(tau, L_Omega) * diag_pre_multiply(tau, L_Omega)';\n",
    "}\n",
    "*/\n",
    "\"\"\"\n",
    "model = pystan.StanModel(model_code=model_code)"
   ]
  },
  {
   "cell_type": "code",
   "execution_count": 6,
   "metadata": {
    "collapsed": false
   },
   "outputs": [],
   "source": [
    "fit = model.sampling(data=dict(N=N, K=K, eta=2, X=data))"
   ]
  },
  {
   "cell_type": "code",
   "execution_count": 7,
   "metadata": {
    "collapsed": false
   },
   "outputs": [
    {
     "name": "stdout",
     "output_type": "stream",
     "text": [
      "Inference for Stan model: anon_model_f4c68e80c53f3d15a92e903208be179f.\n",
      "4 chains, each with iter=2000; warmup=1000; thin=1; \n",
      "post-warmup draws per chain=1000, total post-warmup draws=4000.\n",
      "\n",
      "               mean se_mean     sd   2.5%    25%    50%    75%  97.5%  n_eff   Rhat\n",
      "mu[0]          0.03  9.1e-3   0.29  -0.53  -0.16   0.02   0.22   0.62 1029.0    1.0\n",
      "mu[1]          0.11  7.6e-3   0.25  -0.39  -0.06    0.1   0.27   0.61 1082.0    1.0\n",
      "mu[2]          -0.3  6.8e-3   0.21  -0.72  -0.44  -0.31  -0.16   0.11  967.0    1.0\n",
      "mu[3]         -0.13  6.0e-3   0.19   -0.5  -0.26  -0.13-9.1e-3   0.26 1047.0    1.0\n",
      "mu[4]          0.07  5.8e-3    0.2  -0.32  -0.05   0.08    0.2   0.46 1167.0    1.0\n",
      "mu[5]          0.09  6.7e-3   0.23  -0.37  -0.06   0.09   0.24   0.55 1193.0    1.0\n",
      "mu[6]          -0.3  6.6e-3   0.21  -0.73  -0.44   -0.3  -0.16   0.13 1025.0    1.0\n",
      "mu[7]          0.06  6.6e-3   0.23  -0.38  -0.08   0.06   0.21    0.5 1163.0    1.0\n",
      "mu[8]         -0.02  7.3e-3   0.24   -0.5  -0.18  -0.02   0.14   0.43 1048.0    1.0\n",
      "mu[9]         -0.34  7.2e-3   0.23  -0.78   -0.5  -0.34  -0.18   0.11 1027.0    1.0\n",
      "tau[0]         1.41  6.2e-3   0.21   1.06   1.26   1.38   1.54   1.87 1141.0    1.0\n",
      "tau[1]         1.19  5.4e-3   0.18    0.9   1.06   1.17    1.3   1.59 1087.0    1.0\n",
      "tau[2]         1.01  4.3e-3   0.14   0.78   0.91    1.0    1.1   1.35 1124.0    1.0\n",
      "tau[3]         0.92  4.3e-3   0.14   0.69   0.82    0.9   0.99   1.24 1065.0    1.0\n",
      "tau[4]         0.92  5.2e-3   0.17   0.66    0.8    0.9   1.02   1.32 1030.0    1.0\n",
      "tau[5]         1.07  5.5e-3   0.18   0.78   0.94   1.05   1.18   1.51 1126.0    1.0\n",
      "tau[6]         0.98  5.1e-3   0.17    0.7   0.85   0.96   1.08   1.38 1178.0    1.0\n",
      "tau[7]         1.09  5.5e-3   0.19    0.8   0.96   1.06   1.19   1.52 1118.0    1.0\n",
      "tau[8]         1.15  5.6e-3   0.19   0.86   1.02   1.13   1.26   1.59 1131.0    1.0\n",
      "tau[9]         1.09  4.9e-3   0.16   0.82   0.97   1.07   1.18   1.46 1137.0    1.0\n",
      "L_Omega[0,0]    1.0     0.0    0.0    1.0    1.0    1.0    1.0    1.0 4000.0    nan\n",
      "L_Omega[1,0]   0.66  3.6e-3   0.12   0.39    0.6   0.68   0.75   0.85 1098.0    1.0\n",
      "L_Omega[2,0]  -0.03  4.8e-3   0.16  -0.34  -0.14  -0.03   0.08   0.28 1071.0    1.0\n",
      "L_Omega[3,0]   0.14  4.8e-3   0.16  -0.19   0.03   0.14   0.25   0.43 1096.0    1.0\n",
      "L_Omega[4,0]  -0.14  4.9e-3   0.17  -0.46  -0.27  -0.15  -0.03   0.19 1165.0    1.0\n",
      "L_Omega[5,0]  -0.15  4.9e-3   0.17  -0.47  -0.27  -0.16  -0.03   0.19 1238.0    1.0\n",
      "L_Omega[6,0]  -0.08  4.9e-3   0.17  -0.41  -0.19  -0.08   0.04   0.25 1220.0    1.0\n",
      "L_Omega[7,0]  -0.08  4.9e-3   0.17  -0.41  -0.19  -0.08   0.03   0.25 1181.0    1.0\n",
      "L_Omega[8,0]  -0.05  4.8e-3   0.17  -0.37  -0.17  -0.05   0.06   0.28 1211.0    1.0\n",
      "L_Omega[9,0]  -0.18  4.9e-3   0.16  -0.49   -0.3  -0.19  -0.08   0.14 1073.0    1.0\n",
      "L_Omega[0,1]    0.0     0.0    0.0    0.0    0.0    0.0    0.0    0.0 4000.0    nan\n",
      "L_Omega[1,1]   0.73  3.0e-3    0.1   0.53   0.66   0.73    0.8   0.92 1131.0    1.0\n",
      "L_Omega[2,1]   0.15  5.4e-3   0.18  -0.22   0.03   0.16   0.28   0.48 1093.0    1.0\n",
      "L_Omega[3,1]  -0.25  5.6e-3   0.18  -0.57  -0.38  -0.25  -0.13   0.12 1020.0    1.0\n",
      "L_Omega[4,1]  -0.02  5.6e-3   0.19   -0.4  -0.15  -0.02   0.12   0.35 1212.0    1.0\n",
      "L_Omega[5,1]  -0.06  5.5e-3   0.19  -0.42  -0.19  -0.06   0.08   0.31 1223.0    1.0\n",
      "L_Omega[6,1]   0.04  5.5e-3   0.19  -0.35  -0.09   0.04   0.17   0.41 1240.0    1.0\n",
      "L_Omega[7,1]  -0.23  5.3e-3   0.18  -0.56  -0.36  -0.24   -0.1   0.14 1230.0    1.0\n",
      "L_Omega[8,1]    0.1  5.4e-3   0.19  -0.27  -0.03    0.1   0.23   0.45 1224.0    1.0\n",
      "L_Omega[9,1]   0.31  5.1e-3   0.17  -0.05   0.21   0.33   0.43   0.62 1136.0    1.0\n",
      "L_Omega[0,2]    0.0     0.0    0.0    0.0    0.0    0.0    0.0    0.0 4000.0    nan\n",
      "L_Omega[1,2]    0.0     0.0    0.0    0.0    0.0    0.0    0.0    0.0 4000.0    nan\n",
      "L_Omega[2,2]   0.96  1.2e-3   0.04   0.85   0.94   0.97   0.99    1.0 1099.0    1.0\n",
      "L_Omega[3,2]   0.58  3.6e-3   0.12   0.31    0.5   0.59   0.66   0.77 1099.0    1.0\n",
      "L_Omega[4,2] 1.9e-3  4.5e-3   0.16  -0.31  -0.11 2.7e-3   0.11   0.31 1256.0    1.0\n",
      "L_Omega[5,2]  -0.07  4.7e-3   0.16  -0.39  -0.19  -0.08   0.04   0.25 1195.0    1.0\n",
      "L_Omega[6,2]  -0.07  4.7e-3   0.16  -0.37  -0.18  -0.07   0.04   0.25 1148.0    1.0\n",
      "L_Omega[7,2]  -0.12  4.5e-3   0.16  -0.41  -0.23  -0.12  -0.01    0.2 1222.0    1.0\n",
      "L_Omega[8,2]   0.25  4.7e-3   0.16  -0.09   0.15   0.26   0.36   0.54 1139.0    1.0\n",
      "L_Omega[9,2]   0.46  3.9e-3   0.13   0.18   0.38   0.47   0.55   0.69 1086.0    1.0\n",
      "L_Omega[0,3]    0.0     0.0    0.0    0.0    0.0    0.0    0.0    0.0 4000.0    nan\n",
      "L_Omega[1,3]    0.0     0.0    0.0    0.0    0.0    0.0    0.0    0.0 4000.0    nan\n",
      "L_Omega[2,3]    0.0     0.0    0.0    0.0    0.0    0.0    0.0    0.0 4000.0    nan\n",
      "L_Omega[3,3]   0.71  3.1e-3    0.1   0.51   0.64   0.71   0.78    0.9 1059.0    1.0\n",
      "L_Omega[4,3]  -0.03  5.5e-3   0.19  -0.38  -0.17  -0.04    0.1   0.33 1157.0    1.0\n",
      "L_Omega[5,3]  -0.03  5.6e-3   0.18  -0.38  -0.15  -0.03    0.1   0.34 1052.0    1.0\n",
      "L_Omega[6,3]   0.27  5.4e-3   0.18  -0.11   0.15   0.29   0.41    0.6 1162.0    1.0\n",
      "L_Omega[7,3]  -0.25  5.2e-3   0.18  -0.56  -0.37  -0.25  -0.14   0.13 1165.0    1.0\n",
      "L_Omega[8,3]   0.01  5.4e-3   0.18  -0.34  -0.11 9.7e-3   0.13   0.36 1101.0    1.0\n",
      "L_Omega[9,3]  -0.41  4.8e-3   0.15  -0.68  -0.52  -0.42  -0.32  -0.09 1006.0    1.0\n",
      "L_Omega[0,4]    0.0     0.0    0.0    0.0    0.0    0.0    0.0    0.0 4000.0    nan\n",
      "L_Omega[1,4]    0.0     0.0    0.0    0.0    0.0    0.0    0.0    0.0 4000.0    nan\n",
      "L_Omega[2,4]    0.0     0.0    0.0    0.0    0.0    0.0    0.0    0.0 4000.0    nan\n",
      "L_Omega[3,4]    0.0     0.0    0.0    0.0    0.0    0.0    0.0    0.0 4000.0    nan\n",
      "L_Omega[4,4]   0.92  1.5e-3   0.05    0.8   0.89   0.93   0.96   0.99 1034.0    1.0\n",
      "L_Omega[5,4]  -0.11  5.0e-3   0.17  -0.43  -0.23  -0.12 3.1e-3   0.22 1161.0    1.0\n",
      "L_Omega[6,4]  -0.18  5.0e-3   0.17  -0.49   -0.3  -0.19  -0.07   0.16 1102.0    1.0\n",
      "L_Omega[7,4]  -0.23  4.6e-3   0.16  -0.53  -0.34  -0.24  -0.13   0.09 1181.0    1.0\n",
      "L_Omega[8,4]   0.06  4.7e-3   0.16  -0.26  -0.05   0.06   0.17   0.37 1163.0    1.0\n",
      "L_Omega[9,4]   0.04  4.0e-3   0.13  -0.23  -0.05   0.04   0.12   0.31 1107.0    1.0\n",
      "L_Omega[0,5]    0.0     0.0    0.0    0.0    0.0    0.0    0.0    0.0 4000.0    nan\n",
      "L_Omega[1,5]    0.0     0.0    0.0    0.0    0.0    0.0    0.0    0.0 4000.0    nan\n",
      "L_Omega[2,5]    0.0     0.0    0.0    0.0    0.0    0.0    0.0    0.0 4000.0    nan\n",
      "L_Omega[3,5]    0.0     0.0    0.0    0.0    0.0    0.0    0.0    0.0 4000.0    nan\n",
      "L_Omega[4,5]    0.0     0.0    0.0    0.0    0.0    0.0    0.0    0.0 4000.0    nan\n",
      "L_Omega[5,5]   0.89  1.8e-3   0.06   0.75   0.86    0.9   0.94   0.98 1086.0    1.0\n",
      "L_Omega[6,5]   0.08  4.6e-3   0.16  -0.23  -0.02   0.08   0.19   0.39 1183.0    1.0\n",
      "L_Omega[7,5]   0.02  4.7e-3   0.16   -0.3  -0.09   0.02   0.12   0.33 1173.0    1.0\n",
      "L_Omega[8,5]   0.33  4.7e-3   0.16-8.2e-4   0.23   0.33   0.44   0.61 1109.0    1.0\n",
      "L_Omega[9,5]  -0.07  3.9e-3   0.13  -0.32  -0.14  -0.06   0.02   0.19 1081.0    1.0\n",
      "L_Omega[0,6]    0.0     0.0    0.0    0.0    0.0    0.0    0.0    0.0 4000.0    nan\n",
      "L_Omega[1,6]    0.0     0.0    0.0    0.0    0.0    0.0    0.0    0.0 4000.0    nan\n",
      "L_Omega[2,6]    0.0     0.0    0.0    0.0    0.0    0.0    0.0    0.0 4000.0    nan\n",
      "L_Omega[3,6]    0.0     0.0    0.0    0.0    0.0    0.0    0.0    0.0 4000.0    nan\n",
      "L_Omega[4,6]    0.0     0.0    0.0    0.0    0.0    0.0    0.0    0.0 4000.0    nan\n",
      "L_Omega[5,6]    0.0     0.0    0.0    0.0    0.0    0.0    0.0    0.0 4000.0    nan\n",
      "L_Omega[6,6]   0.83  2.5e-3   0.08   0.64   0.78   0.84   0.89   0.96 1134.0    1.0\n",
      "L_Omega[7,6]   0.02  4.7e-3   0.17   -0.3  -0.09   0.02   0.13   0.34 1245.0    1.0\n",
      "L_Omega[8,6]  -0.05  4.9e-3   0.17  -0.36  -0.16  -0.05   0.06   0.29 1131.0    1.0\n",
      "L_Omega[9,6]  -0.07  4.2e-3   0.14  -0.34  -0.17  -0.07   0.02   0.21 1085.0    1.0\n",
      "L_Omega[0,7]    0.0     0.0    0.0    0.0    0.0    0.0    0.0    0.0 4000.0    nan\n",
      "L_Omega[1,7]    0.0     0.0    0.0    0.0    0.0    0.0    0.0    0.0 4000.0    nan\n",
      "L_Omega[2,7]    0.0     0.0    0.0    0.0    0.0    0.0    0.0    0.0 4000.0    nan\n",
      "L_Omega[3,7]    0.0     0.0    0.0    0.0    0.0    0.0    0.0    0.0 4000.0    nan\n",
      "L_Omega[4,7]    0.0     0.0    0.0    0.0    0.0    0.0    0.0    0.0 4000.0    nan\n",
      "L_Omega[5,7]    0.0     0.0    0.0    0.0    0.0    0.0    0.0    0.0 4000.0    nan\n",
      "L_Omega[6,7]    0.0     0.0    0.0    0.0    0.0    0.0    0.0    0.0 4000.0    nan\n",
      "L_Omega[7,7]   0.78  2.6e-3   0.09   0.59   0.72   0.79   0.85   0.93 1136.0    1.0\n",
      "L_Omega[8,7]  -0.17  4.6e-3   0.15  -0.46  -0.28  -0.17  -0.07   0.14 1135.0    1.0\n",
      "L_Omega[9,7]   0.09  3.9e-3   0.13  -0.18 3.5e-4   0.09   0.17   0.35 1129.0    1.0\n",
      "L_Omega[0,8]    0.0     0.0    0.0    0.0    0.0    0.0    0.0    0.0 4000.0    nan\n",
      "L_Omega[1,8]    0.0     0.0    0.0    0.0    0.0    0.0    0.0    0.0 4000.0    nan\n",
      "L_Omega[2,8]    0.0     0.0    0.0    0.0    0.0    0.0    0.0    0.0 4000.0    nan\n",
      "L_Omega[3,8]    0.0     0.0    0.0    0.0    0.0    0.0    0.0    0.0 4000.0    nan\n",
      "L_Omega[4,8]    0.0     0.0    0.0    0.0    0.0    0.0    0.0    0.0 4000.0    nan\n",
      "L_Omega[5,8]    0.0     0.0    0.0    0.0    0.0    0.0    0.0    0.0 4000.0    nan\n",
      "L_Omega[6,8]    0.0     0.0    0.0    0.0    0.0    0.0    0.0    0.0 4000.0    nan\n",
      "L_Omega[7,8]    0.0     0.0    0.0    0.0    0.0    0.0    0.0    0.0 4000.0    nan\n",
      "L_Omega[8,8]   0.74  2.5e-3   0.09   0.57   0.68   0.75   0.81    0.9 1185.0    1.0\n",
      "L_Omega[9,8]   0.21  3.8e-3   0.13  -0.03   0.12   0.21   0.29   0.46 1079.0    1.0\n",
      "L_Omega[0,9]    0.0     0.0    0.0    0.0    0.0    0.0    0.0    0.0 4000.0    nan\n",
      "L_Omega[1,9]    0.0     0.0    0.0    0.0    0.0    0.0    0.0    0.0 4000.0    nan\n",
      "L_Omega[2,9]    0.0     0.0    0.0    0.0    0.0    0.0    0.0    0.0 4000.0    nan\n",
      "L_Omega[3,9]    0.0     0.0    0.0    0.0    0.0    0.0    0.0    0.0 4000.0    nan\n",
      "L_Omega[4,9]    0.0     0.0    0.0    0.0    0.0    0.0    0.0    0.0 4000.0    nan\n",
      "L_Omega[5,9]    0.0     0.0    0.0    0.0    0.0    0.0    0.0    0.0 4000.0    nan\n",
      "L_Omega[6,9]    0.0     0.0    0.0    0.0    0.0    0.0    0.0    0.0 4000.0    nan\n",
      "L_Omega[7,9]    0.0     0.0    0.0    0.0    0.0    0.0    0.0    0.0 4000.0    nan\n",
      "L_Omega[8,9]    0.0     0.0    0.0    0.0    0.0    0.0    0.0    0.0 4000.0    nan\n",
      "L_Omega[9,9]   0.48  3.0e-3    0.1    0.3   0.41   0.47   0.55    0.7 1142.0    1.0\n",
      "lp__         -94.27    0.22   6.11 -107.7 -98.06 -93.74 -90.09 -83.71  795.0    1.0\n",
      "\n",
      "Samples were drawn using NUTS(diag_e) at Thu Mar  3 14:44:34 2016.\n",
      "For each parameter, n_eff is a crude measure of effective sample size,\n",
      "and Rhat is the potential scale reduction factor on split chains (at \n",
      "convergence, Rhat=1).\n"
     ]
    }
   ],
   "source": [
    "print fit"
   ]
  },
  {
   "cell_type": "code",
   "execution_count": 34,
   "metadata": {
    "collapsed": false
   },
   "outputs": [],
   "source": [
    "samples = fit.extract()\n",
    "L_Omega_samples = samples['L_Omega']\n",
    "Omega_samples = np.matmul(L_Omega_samples, L_Omega_samples.transpose(0,2,1))"
   ]
  },
  {
   "cell_type": "code",
   "execution_count": 35,
   "metadata": {
    "collapsed": false
   },
   "outputs": [
    {
     "data": {
      "image/png": "[encoded data removed]",
      "text/plain": [
       "<matplotlib.figure.Figure at 0x1165b8390>"
      ]
     },
     "metadata": {},
     "output_type": "display_data"
    }
   ],
   "source": [
    "plt.hist(Omega_samples[:,0,1]);"
   ]
  },
  {
   "cell_type": "code",
   "execution_count": 36,
   "metadata": {
    "collapsed": false
   },
   "outputs": [
    {
     "name": "stdout",
     "output_type": "stream",
     "text": [
      "(0, 1): 0.39 - 0.68 - 0.85\n",
      "(2, 3): 0.25 - 0.55 - 0.75\n",
      "(2, 9): 0.22 - 0.53 - 0.74\n"
     ]
    }
   ],
   "source": [
    "Omega_mean = np.mean(Omega_samples, axis=0)\n",
    "Omega_low  = np.percentile(Omega_samples, 2.5, axis=0)\n",
    "Omega_med  = np.percentile(Omega_samples, 50, axis=0)\n",
    "Omega_high = np.percentile(Omega_samples, 97.5, axis=0)\n",
    "\n",
    "for j in range(K):\n",
    "    for i in range(j):\n",
    "        low  = Omega_low[i, j]\n",
    "        med  = Omega_med[i, j]\n",
    "        high = Omega_high[i, j]\n",
    "        if low > 0:\n",
    "            print \"({}, {}): {:.2f} - {:.2f} - {:.2f}\".format(i, j, low, med, high)"
   ]
  },
  {
   "cell_type": "code",
   "execution_count": 44,
   "metadata": {
    "collapsed": false
   },
   "outputs": [
    {
     "data": {
      "image/png": "[encoded data removed]",
      "text/plain": [
       "<matplotlib.figure.Figure at 0x11b9e4790>"
      ]
     },
     "metadata": {},
     "output_type": "display_data"
    }
   ],
   "source": [
    "plt.pcolormesh(Omega_low, cmap='RdBu_r', vmin=-1, vmax=1)\n",
    "plt.colorbar();"
   ]
  }
 ],
 "metadata": {
  "kernelspec": {
   "display_name": "Python 2",
   "language": "python",
   "name": "python2"
  },
  "language_info": {
   "codemirror_mode": {
    "name": "ipython",
    "version": 2
   },
   "file_extension": ".py",
   "mimetype": "text/x-python",
   "name": "python",
   "nbconvert_exporter": "python",
   "pygments_lexer": "ipython2",
   "version": "2.7.11"
  }
 },
 "nbformat": 4,
 "nbformat_minor": 0
}
