{
 "cells": [
  {
   "cell_type": "markdown",
   "metadata": {},
   "source": [
    "# Robust Linear Regression\n",
    "\n",
    "This is a linear regression with a Student-T distribution for the error model."
   ]
  },
  {
   "cell_type": "code",
   "execution_count": 1,
   "metadata": {
    "collapsed": false
   },
   "outputs": [],
   "source": [
    "import numpy as np\n",
    "import scipy\n",
    "\n",
    "import warnings\n",
    "warnings.filterwarnings('ignore')\n",
    "\n",
    "%matplotlib inline\n",
    "import matplotlib.pyplot as plt\n",
    "\n",
    "import pystan"
   ]
  },
  {
   "cell_type": "code",
   "execution_count": 2,
   "metadata": {
    "collapsed": false
   },
   "outputs": [
    {
     "data": {
      "image/png": "[encoded data removed]",
      "text/plain": [
       "<matplotlib.figure.Figure at 0x11326fd90>"
      ]
     },
     "metadata": {},
     "output_type": "display_data"
    }
   ],
   "source": [
    "N = 20\n",
    "predictors = np.random.randn(N)\n",
    "noise = scipy.stats.t.rvs(df=1, size=N, scale=4.0)\n",
    "observations = 2.0 * predictors - 1.5 + noise\n",
    "\n",
    "fig, ax = plt.subplots(1,1)\n",
    "ax.set_title('Generated Data')\n",
    "ax.set_xlabel('predictors')\n",
    "ax.set_ylabel('observations')\n",
    "ax.scatter(predictors, observations)\n",
    "fig.show()"
   ]
  },
  {
   "cell_type": "code",
   "execution_count": 3,
   "metadata": {
    "collapsed": false
   },
   "outputs": [],
   "source": [
    "import pystan"
   ]
  },
  {
   "cell_type": "code",
   "execution_count": 4,
   "metadata": {
    "collapsed": false
   },
   "outputs": [],
   "source": [
    "model_code = \"\"\"\n",
    "data {\n",
    "    real<lower=0> alpha_sigma;\n",
    "    real<lower=0> beta_sigma;\n",
    "    real<lower=0> sigma_sigma;\n",
    "\n",
    "    real<lower=0> nu;\n",
    "\n",
    "    int N;\n",
    "    vector[N] x;\n",
    "    vector[N] y;\n",
    "}\n",
    "\n",
    "parameters {\n",
    "    real beta;\n",
    "    real alpha;\n",
    "    real<lower=0> sigma;\n",
    "}\n",
    "\n",
    "model {\n",
    "    alpha ~ cauchy(0, alpha_sigma);\n",
    "    beta  ~ cauchy(0, beta_sigma);\n",
    "    sigma ~ cauchy(0, sigma_sigma);\n",
    "    \n",
    "    y ~ student_t(nu, beta * x + alpha, sigma);\n",
    "}\n",
    "\"\"\"\n",
    "model = pystan.StanModel(model_code=model_code)"
   ]
  },
  {
   "cell_type": "code",
   "execution_count": 5,
   "metadata": {
    "collapsed": false
   },
   "outputs": [
    {
     "name": "stdout",
     "output_type": "stream",
     "text": [
      "Inference for Stan model: anon_model_844359b2be33a9a3d86dd3979ff6531d.\n",
      "4 chains, each with iter=2000; warmup=1000; thin=1; \n",
      "post-warmup draws per chain=1000, total post-warmup draws=4000.\n",
      "\n",
      "        mean se_mean     sd   2.5%    25%    50%    75%  97.5%  n_eff   Rhat\n",
      "beta     2.2    0.07    1.9  -1.22   0.95   2.11   3.35   6.21  836.0    1.0\n",
      "alpha  -4.02    0.06    1.7   -7.7  -5.03  -3.93  -2.89  -0.88  836.0    1.0\n",
      "sigma   5.28    0.06   1.84   2.59   3.97   5.02   6.23   9.56  959.0    1.0\n",
      "lp__  -61.97    0.05   1.43 -65.71 -62.57 -61.59 -60.95  -60.4  685.0    1.0\n",
      "\n",
      "Samples were drawn using NUTS(diag_e) at Thu Mar  3 16:30:35 2016.\n",
      "For each parameter, n_eff is a crude measure of effective sample size,\n",
      "and Rhat is the potential scale reduction factor on split chains (at \n",
      "convergence, Rhat=1).\n"
     ]
    }
   ],
   "source": [
    "fit = model.sampling(data=dict(nu=1, N=N, x=predictors, y=observations, alpha_sigma=10, beta_sigma=10, sigma_sigma=10))\n",
    "print fit"
   ]
  },
  {
   "cell_type": "code",
   "execution_count": 6,
   "metadata": {
    "collapsed": false
   },
   "outputs": [],
   "source": [
    "samples = fit.extract()\n",
    "alpha = samples['alpha'][:, np.newaxis]\n",
    "beta  = samples['beta'][:, np.newaxis]\n",
    "mx  = np.linspace(-3, 3)\n",
    "yxx = np.outer(beta, mx) + alpha"
   ]
  },
  {
   "cell_type": "code",
   "execution_count": 7,
   "metadata": {
    "collapsed": false
   },
   "outputs": [
    {
     "data": {
      "image/png": "[encoded data removed]",
      "text/plain": [
       "<matplotlib.figure.Figure at 0x117915e10>"
      ]
     },
     "metadata": {},
     "output_type": "display_data"
    }
   ],
   "source": [
    "ymed = np.percentile(yxx,   50, axis=0)\n",
    "ymin = np.percentile(yxx,  2.5, axis=0)\n",
    "ymax = np.percentile(yxx, 97.5, axis=0)\n",
    "\n",
    "fig, ax = plt.subplots(1, 1)\n",
    "ax.set_title('Generated Data with Regression Line')\n",
    "ax.set_xlabel('x')\n",
    "ax.set_ylabel('y')\n",
    "ax.scatter(predictors, observations)\n",
    "reg_line = ax.plot(mx, ymed)\n",
    "cred_region = ax.fill_between(mx, ymin, ymax, alpha=0.2)\n",
    "fig.show()"
   ]
  },
  {
   "cell_type": "code",
   "execution_count": null,
   "metadata": {
    "collapsed": true
   },
   "outputs": [],
   "source": []
  }
 ],
 "metadata": {
  "kernelspec": {
   "display_name": "Python 2",
   "language": "python",
   "name": "python2"
  },
  "language_info": {
   "codemirror_mode": {
    "name": "ipython",
    "version": 2
   },
   "file_extension": ".py",
   "mimetype": "text/x-python",
   "name": "python",
   "nbconvert_exporter": "python",
   "pygments_lexer": "ipython2",
   "version": "2.7.11"
  }
 },
 "nbformat": 4,
 "nbformat_minor": 0
}
